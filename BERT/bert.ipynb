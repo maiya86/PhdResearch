{
 "cells": [
  {
   "cell_type": "code",
   "execution_count": 1,
   "metadata": {},
   "outputs": [],
   "source": [
    "#!pip install bertopic\n",
    "#!pip install openpyxl"
   ]
  },
  {
   "cell_type": "code",
   "execution_count": 114,
   "metadata": {},
   "outputs": [
    {
     "data": {
      "text/html": [
       "<div>\n",
       "<style scoped>\n",
       "    .dataframe tbody tr th:only-of-type {\n",
       "        vertical-align: middle;\n",
       "    }\n",
       "\n",
       "    .dataframe tbody tr th {\n",
       "        vertical-align: top;\n",
       "    }\n",
       "\n",
       "    .dataframe thead th {\n",
       "        text-align: right;\n",
       "    }\n",
       "</style>\n",
       "<table border=\"1\" class=\"dataframe\">\n",
       "  <thead>\n",
       "    <tr style=\"text-align: right;\">\n",
       "      <th></th>\n",
       "      <th>Unnamed: 0</th>\n",
       "      <th>tweet_id</th>\n",
       "      <th>original_tweets</th>\n",
       "      <th>company_name</th>\n",
       "      <th>bi_grams_to_text</th>\n",
       "    </tr>\n",
       "  </thead>\n",
       "  <tbody>\n",
       "    <tr>\n",
       "      <th>0</th>\n",
       "      <td>3</td>\n",
       "      <td>1057836978954256385</td>\n",
       "      <td>@sasha_feather @hypatiadotca Thank you so much...</td>\n",
       "      <td>Google</td>\n",
       "      <td>NaN</td>\n",
       "    </tr>\n",
       "    <tr>\n",
       "      <th>1</th>\n",
       "      <td>4</td>\n",
       "      <td>1057837349290287104</td>\n",
       "      <td>Text (1/2):\\n1. An end to Forced Arbitration i...</td>\n",
       "      <td>Google</td>\n",
       "      <td>forced_arbitration sexual_harassment</td>\n",
       "    </tr>\n",
       "    <tr>\n",
       "      <th>2</th>\n",
       "      <td>6</td>\n",
       "      <td>1057838702330822656</td>\n",
       "      <td>@hypatiadotca @sasha_feather That’s awesome, w...</td>\n",
       "      <td>Google</td>\n",
       "      <td>NaN</td>\n",
       "    </tr>\n",
       "    <tr>\n",
       "      <th>3</th>\n",
       "      <td>20</td>\n",
       "      <td>1057996752735870976</td>\n",
       "      <td>Google employees at the company's U.K. headqua...</td>\n",
       "      <td>Google</td>\n",
       "      <td>sexual_harassment</td>\n",
       "    </tr>\n",
       "    <tr>\n",
       "      <th>4</th>\n",
       "      <td>33</td>\n",
       "      <td>1058016551796989952</td>\n",
       "      <td>PHOTOS: Worldwide #GoogleWalkout over sexual h...</td>\n",
       "      <td>Google</td>\n",
       "      <td>sexual_harassment,</td>\n",
       "    </tr>\n",
       "    <tr>\n",
       "      <th>...</th>\n",
       "      <td>...</td>\n",
       "      <td>...</td>\n",
       "      <td>...</td>\n",
       "      <td>...</td>\n",
       "      <td>...</td>\n",
       "    </tr>\n",
       "    <tr>\n",
       "      <th>938</th>\n",
       "      <td>3130</td>\n",
       "      <td>1465360089947287560</td>\n",
       "      <td>\"The coworker who drugged &amp;amp; raped me, was ...</td>\n",
       "      <td>Apple</td>\n",
       "      <td>digest_ stories,_published</td>\n",
       "    </tr>\n",
       "    <tr>\n",
       "      <th>939</th>\n",
       "      <td>3131</td>\n",
       "      <td>1465714221820399618</td>\n",
       "      <td>\"The heartache I had to deal with, constantly ...</td>\n",
       "      <td>Apple</td>\n",
       "      <td>digest_</td>\n",
       "    </tr>\n",
       "    <tr>\n",
       "      <th>940</th>\n",
       "      <td>3132</td>\n",
       "      <td>1466075237624303616</td>\n",
       "      <td>\"We were told to stop being dramatic and to no...</td>\n",
       "      <td>Apple</td>\n",
       "      <td>digest_ stories,_published</td>\n",
       "    </tr>\n",
       "    <tr>\n",
       "      <th>941</th>\n",
       "      <td>3133</td>\n",
       "      <td>1466440154420240388</td>\n",
       "      <td>\"I [am] scared to speak with an attorney becau...</td>\n",
       "      <td>Apple</td>\n",
       "      <td>digest_</td>\n",
       "    </tr>\n",
       "    <tr>\n",
       "      <th>942</th>\n",
       "      <td>3134</td>\n",
       "      <td>1466459696907403270</td>\n",
       "      <td>Apple's hourly workforce says the company has ...</td>\n",
       "      <td>Apple</td>\n",
       "      <td>working_conditions</td>\n",
       "    </tr>\n",
       "  </tbody>\n",
       "</table>\n",
       "<p>943 rows × 5 columns</p>\n",
       "</div>"
      ],
      "text/plain": [
       "     Unnamed: 0             tweet_id  \\\n",
       "0             3  1057836978954256385   \n",
       "1             4  1057837349290287104   \n",
       "2             6  1057838702330822656   \n",
       "3            20  1057996752735870976   \n",
       "4            33  1058016551796989952   \n",
       "..          ...                  ...   \n",
       "938        3130  1465360089947287560   \n",
       "939        3131  1465714221820399618   \n",
       "940        3132  1466075237624303616   \n",
       "941        3133  1466440154420240388   \n",
       "942        3134  1466459696907403270   \n",
       "\n",
       "                                       original_tweets company_name  \\\n",
       "0    @sasha_feather @hypatiadotca Thank you so much...       Google   \n",
       "1    Text (1/2):\\n1. An end to Forced Arbitration i...       Google   \n",
       "2    @hypatiadotca @sasha_feather That’s awesome, w...       Google   \n",
       "3    Google employees at the company's U.K. headqua...       Google   \n",
       "4    PHOTOS: Worldwide #GoogleWalkout over sexual h...       Google   \n",
       "..                                                 ...          ...   \n",
       "938  \"The coworker who drugged &amp; raped me, was ...        Apple   \n",
       "939  \"The heartache I had to deal with, constantly ...        Apple   \n",
       "940  \"We were told to stop being dramatic and to no...        Apple   \n",
       "941  \"I [am] scared to speak with an attorney becau...        Apple   \n",
       "942  Apple's hourly workforce says the company has ...        Apple   \n",
       "\n",
       "                         bi_grams_to_text  \n",
       "0                                     NaN  \n",
       "1    forced_arbitration sexual_harassment  \n",
       "2                                     NaN  \n",
       "3                       sexual_harassment  \n",
       "4                      sexual_harassment,  \n",
       "..                                    ...  \n",
       "938           digest_ stories,_published   \n",
       "939                               digest_  \n",
       "940           digest_ stories,_published   \n",
       "941                               digest_  \n",
       "942                    working_conditions  \n",
       "\n",
       "[943 rows x 5 columns]"
      ]
     },
     "execution_count": 114,
     "metadata": {},
     "output_type": "execute_result"
    }
   ],
   "source": [
    "from pandas import read_excel\n",
    "data = read_excel(\"sanitized_data.xlsx\",sheet_name = 'sanitized_text')\n",
    "data"
   ]
  },
  {
   "cell_type": "code",
   "execution_count": 115,
   "metadata": {},
   "outputs": [],
   "source": [
    "#data.head()"
   ]
  },
  {
   "cell_type": "code",
   "execution_count": 116,
   "metadata": {},
   "outputs": [],
   "source": [
    "#import re\n",
    "#data['grams_to_text'] = data['grams_to_text'].apply(lambda row:  re.sub(\"@[A-Za-z0-9_]+\",\"\", row), 1)\n",
    "#data['sanitized_text_without_url'] = data['sanitized_text_without_url'].apply(lambda row:  re.sub(\"@[A-Za-z0-9_]+\",\"\", row), 1)\n",
    "#Removing url and refernces \n",
    "#data['original_tweets'] = data['original_tweets'].apply(lambda row:  re.sub(\"@[A-Za-z0-9_]+\",\"\", row), 1)\n",
    "#data['original_tweets'] = data['original_tweets'].apply(lambda row:  re.sub(\"#[A-Za-z0-9_]+\",\"\", row), 1)\n",
    "#data['original_tweets'] = data['original_tweets'].apply(lambda row:  re.sub(r\"http\\S+\", \"\", row), 1)\n"
   ]
  },
  {
   "cell_type": "code",
   "execution_count": 117,
   "metadata": {},
   "outputs": [
    {
     "data": {
      "text/html": [
       "<div>\n",
       "<style scoped>\n",
       "    .dataframe tbody tr th:only-of-type {\n",
       "        vertical-align: middle;\n",
       "    }\n",
       "\n",
       "    .dataframe tbody tr th {\n",
       "        vertical-align: top;\n",
       "    }\n",
       "\n",
       "    .dataframe thead th {\n",
       "        text-align: right;\n",
       "    }\n",
       "</style>\n",
       "<table border=\"1\" class=\"dataframe\">\n",
       "  <thead>\n",
       "    <tr style=\"text-align: right;\">\n",
       "      <th></th>\n",
       "      <th>Unnamed: 0</th>\n",
       "      <th>tweet_id</th>\n",
       "      <th>original_tweets</th>\n",
       "      <th>company_name</th>\n",
       "      <th>bi_grams_to_text</th>\n",
       "    </tr>\n",
       "  </thead>\n",
       "  <tbody>\n",
       "    <tr>\n",
       "      <th>0</th>\n",
       "      <td>3</td>\n",
       "      <td>1057836978954256385</td>\n",
       "      <td>@sasha_feather @hypatiadotca Thank you so much...</td>\n",
       "      <td>Google</td>\n",
       "      <td>NaN</td>\n",
       "    </tr>\n",
       "    <tr>\n",
       "      <th>2</th>\n",
       "      <td>6</td>\n",
       "      <td>1057838702330822656</td>\n",
       "      <td>@hypatiadotca @sasha_feather That’s awesome, w...</td>\n",
       "      <td>Google</td>\n",
       "      <td>NaN</td>\n",
       "    </tr>\n",
       "    <tr>\n",
       "      <th>50</th>\n",
       "      <td>365</td>\n",
       "      <td>1099115440280723457</td>\n",
       "      <td>@jthorn_ca @MsWorkers4 As veterans, we side wi...</td>\n",
       "      <td>Microsoft</td>\n",
       "      <td>NaN</td>\n",
       "    </tr>\n",
       "    <tr>\n",
       "      <th>57</th>\n",
       "      <td>394</td>\n",
       "      <td>1105448283470745601</td>\n",
       "      <td>When it pays to be a harasser... so much for s...</td>\n",
       "      <td>Google</td>\n",
       "      <td>NaN</td>\n",
       "    </tr>\n",
       "    <tr>\n",
       "      <th>63</th>\n",
       "      <td>406</td>\n",
       "      <td>1105496248012996608</td>\n",
       "      <td>@GoogleWalkout Given the income inequality in ...</td>\n",
       "      <td>Google</td>\n",
       "      <td>NaN</td>\n",
       "    </tr>\n",
       "    <tr>\n",
       "      <th>...</th>\n",
       "      <td>...</td>\n",
       "      <td>...</td>\n",
       "      <td>...</td>\n",
       "      <td>...</td>\n",
       "      <td>...</td>\n",
       "    </tr>\n",
       "    <tr>\n",
       "      <th>865</th>\n",
       "      <td>2978</td>\n",
       "      <td>1433828340582916105</td>\n",
       "      <td>@AppleLaborers I was told after I left that I ...</td>\n",
       "      <td>Apple</td>\n",
       "      <td>NaN</td>\n",
       "    </tr>\n",
       "    <tr>\n",
       "      <th>875</th>\n",
       "      <td>3008</td>\n",
       "      <td>1437508103654699008</td>\n",
       "      <td>Former and current @Apple employees, should re...</td>\n",
       "      <td>Apple</td>\n",
       "      <td>NaN</td>\n",
       "    </tr>\n",
       "    <tr>\n",
       "      <th>876</th>\n",
       "      <td>3009</td>\n",
       "      <td>1437508921556549635</td>\n",
       "      <td>@B_Schmidt @EmilyDevine This is covered in a m...</td>\n",
       "      <td>Apple</td>\n",
       "      <td>NaN</td>\n",
       "    </tr>\n",
       "    <tr>\n",
       "      <th>884</th>\n",
       "      <td>3029</td>\n",
       "      <td>1443601198364299269</td>\n",
       "      <td>Great news! The inspirational @emahlee @marenc...</td>\n",
       "      <td>Amazon</td>\n",
       "      <td>NaN</td>\n",
       "    </tr>\n",
       "    <tr>\n",
       "      <th>924</th>\n",
       "      <td>3107</td>\n",
       "      <td>1461403643194707969</td>\n",
       "      <td>@mariella_moon Hey, Mariella! This article inc...</td>\n",
       "      <td>Apple</td>\n",
       "      <td>NaN</td>\n",
       "    </tr>\n",
       "  </tbody>\n",
       "</table>\n",
       "<p>178 rows × 5 columns</p>\n",
       "</div>"
      ],
      "text/plain": [
       "     Unnamed: 0             tweet_id  \\\n",
       "0             3  1057836978954256385   \n",
       "2             6  1057838702330822656   \n",
       "50          365  1099115440280723457   \n",
       "57          394  1105448283470745601   \n",
       "63          406  1105496248012996608   \n",
       "..          ...                  ...   \n",
       "865        2978  1433828340582916105   \n",
       "875        3008  1437508103654699008   \n",
       "876        3009  1437508921556549635   \n",
       "884        3029  1443601198364299269   \n",
       "924        3107  1461403643194707969   \n",
       "\n",
       "                                       original_tweets company_name  \\\n",
       "0    @sasha_feather @hypatiadotca Thank you so much...       Google   \n",
       "2    @hypatiadotca @sasha_feather That’s awesome, w...       Google   \n",
       "50   @jthorn_ca @MsWorkers4 As veterans, we side wi...    Microsoft   \n",
       "57   When it pays to be a harasser... so much for s...       Google   \n",
       "63   @GoogleWalkout Given the income inequality in ...       Google   \n",
       "..                                                 ...          ...   \n",
       "865  @AppleLaborers I was told after I left that I ...        Apple   \n",
       "875  Former and current @Apple employees, should re...        Apple   \n",
       "876  @B_Schmidt @EmilyDevine This is covered in a m...        Apple   \n",
       "884  Great news! The inspirational @emahlee @marenc...       Amazon   \n",
       "924  @mariella_moon Hey, Mariella! This article inc...        Apple   \n",
       "\n",
       "    bi_grams_to_text  \n",
       "0                NaN  \n",
       "2                NaN  \n",
       "50               NaN  \n",
       "57               NaN  \n",
       "63               NaN  \n",
       "..               ...  \n",
       "865              NaN  \n",
       "875              NaN  \n",
       "876              NaN  \n",
       "884              NaN  \n",
       "924              NaN  \n",
       "\n",
       "[178 rows x 5 columns]"
      ]
     },
     "execution_count": 117,
     "metadata": {},
     "output_type": "execute_result"
    }
   ],
   "source": [
    "df_nan = data[data['bi_grams_to_text'].isna()]\n",
    "df_nan\n"
   ]
  },
  {
   "cell_type": "code",
   "execution_count": 118,
   "metadata": {},
   "outputs": [
    {
     "data": {
      "text/html": [
       "<div>\n",
       "<style scoped>\n",
       "    .dataframe tbody tr th:only-of-type {\n",
       "        vertical-align: middle;\n",
       "    }\n",
       "\n",
       "    .dataframe tbody tr th {\n",
       "        vertical-align: top;\n",
       "    }\n",
       "\n",
       "    .dataframe thead th {\n",
       "        text-align: right;\n",
       "    }\n",
       "</style>\n",
       "<table border=\"1\" class=\"dataframe\">\n",
       "  <thead>\n",
       "    <tr style=\"text-align: right;\">\n",
       "      <th></th>\n",
       "      <th>original_document_num</th>\n",
       "      <th>tweet_id</th>\n",
       "      <th>original_tweets</th>\n",
       "      <th>company_name</th>\n",
       "      <th>bi_grams_to_text</th>\n",
       "    </tr>\n",
       "  </thead>\n",
       "  <tbody>\n",
       "    <tr>\n",
       "      <th>1</th>\n",
       "      <td>4</td>\n",
       "      <td>1057837349290287104</td>\n",
       "      <td>Text (1/2):\\n1. An end to Forced Arbitration i...</td>\n",
       "      <td>Google</td>\n",
       "      <td>forced_arbitration sexual_harassment</td>\n",
       "    </tr>\n",
       "    <tr>\n",
       "      <th>3</th>\n",
       "      <td>20</td>\n",
       "      <td>1057996752735870976</td>\n",
       "      <td>Google employees at the company's U.K. headqua...</td>\n",
       "      <td>Google</td>\n",
       "      <td>sexual_harassment</td>\n",
       "    </tr>\n",
       "    <tr>\n",
       "      <th>4</th>\n",
       "      <td>33</td>\n",
       "      <td>1058016551796989952</td>\n",
       "      <td>PHOTOS: Worldwide #GoogleWalkout over sexual h...</td>\n",
       "      <td>Google</td>\n",
       "      <td>sexual_harassment,</td>\n",
       "    </tr>\n",
       "    <tr>\n",
       "      <th>5</th>\n",
       "      <td>54</td>\n",
       "      <td>1058022770192326656</td>\n",
       "      <td>Women's rights are human rights #GoogleWalkout...</td>\n",
       "      <td>Google</td>\n",
       "      <td>human_rights</td>\n",
       "    </tr>\n",
       "    <tr>\n",
       "      <th>6</th>\n",
       "      <td>74</td>\n",
       "      <td>1058038924793298945</td>\n",
       "      <td>Google employees walked out of the tech compan...</td>\n",
       "      <td>Google</td>\n",
       "      <td>sexual_harassment</td>\n",
       "    </tr>\n",
       "    <tr>\n",
       "      <th>...</th>\n",
       "      <td>...</td>\n",
       "      <td>...</td>\n",
       "      <td>...</td>\n",
       "      <td>...</td>\n",
       "      <td>...</td>\n",
       "    </tr>\n",
       "    <tr>\n",
       "      <th>938</th>\n",
       "      <td>3130</td>\n",
       "      <td>1465360089947287560</td>\n",
       "      <td>\"The coworker who drugged &amp;amp; raped me, was ...</td>\n",
       "      <td>Apple</td>\n",
       "      <td>digest_ stories,_published</td>\n",
       "    </tr>\n",
       "    <tr>\n",
       "      <th>939</th>\n",
       "      <td>3131</td>\n",
       "      <td>1465714221820399618</td>\n",
       "      <td>\"The heartache I had to deal with, constantly ...</td>\n",
       "      <td>Apple</td>\n",
       "      <td>digest_</td>\n",
       "    </tr>\n",
       "    <tr>\n",
       "      <th>940</th>\n",
       "      <td>3132</td>\n",
       "      <td>1466075237624303616</td>\n",
       "      <td>\"We were told to stop being dramatic and to no...</td>\n",
       "      <td>Apple</td>\n",
       "      <td>digest_ stories,_published</td>\n",
       "    </tr>\n",
       "    <tr>\n",
       "      <th>941</th>\n",
       "      <td>3133</td>\n",
       "      <td>1466440154420240388</td>\n",
       "      <td>\"I [am] scared to speak with an attorney becau...</td>\n",
       "      <td>Apple</td>\n",
       "      <td>digest_</td>\n",
       "    </tr>\n",
       "    <tr>\n",
       "      <th>942</th>\n",
       "      <td>3134</td>\n",
       "      <td>1466459696907403270</td>\n",
       "      <td>Apple's hourly workforce says the company has ...</td>\n",
       "      <td>Apple</td>\n",
       "      <td>working_conditions</td>\n",
       "    </tr>\n",
       "  </tbody>\n",
       "</table>\n",
       "<p>765 rows × 5 columns</p>\n",
       "</div>"
      ],
      "text/plain": [
       "     original_document_num             tweet_id  \\\n",
       "1                        4  1057837349290287104   \n",
       "3                       20  1057996752735870976   \n",
       "4                       33  1058016551796989952   \n",
       "5                       54  1058022770192326656   \n",
       "6                       74  1058038924793298945   \n",
       "..                     ...                  ...   \n",
       "938                   3130  1465360089947287560   \n",
       "939                   3131  1465714221820399618   \n",
       "940                   3132  1466075237624303616   \n",
       "941                   3133  1466440154420240388   \n",
       "942                   3134  1466459696907403270   \n",
       "\n",
       "                                       original_tweets company_name  \\\n",
       "1    Text (1/2):\\n1. An end to Forced Arbitration i...       Google   \n",
       "3    Google employees at the company's U.K. headqua...       Google   \n",
       "4    PHOTOS: Worldwide #GoogleWalkout over sexual h...       Google   \n",
       "5    Women's rights are human rights #GoogleWalkout...       Google   \n",
       "6    Google employees walked out of the tech compan...       Google   \n",
       "..                                                 ...          ...   \n",
       "938  \"The coworker who drugged &amp; raped me, was ...        Apple   \n",
       "939  \"The heartache I had to deal with, constantly ...        Apple   \n",
       "940  \"We were told to stop being dramatic and to no...        Apple   \n",
       "941  \"I [am] scared to speak with an attorney becau...        Apple   \n",
       "942  Apple's hourly workforce says the company has ...        Apple   \n",
       "\n",
       "                         bi_grams_to_text  \n",
       "1    forced_arbitration sexual_harassment  \n",
       "3                       sexual_harassment  \n",
       "4                      sexual_harassment,  \n",
       "5                            human_rights  \n",
       "6                       sexual_harassment  \n",
       "..                                    ...  \n",
       "938           digest_ stories,_published   \n",
       "939                               digest_  \n",
       "940           digest_ stories,_published   \n",
       "941                               digest_  \n",
       "942                    working_conditions  \n",
       "\n",
       "[765 rows x 5 columns]"
      ]
     },
     "execution_count": 118,
     "metadata": {},
     "output_type": "execute_result"
    }
   ],
   "source": [
    "#Drop NaN rows\n",
    "data=data.dropna()\n",
    "data.rename( columns={'Unnamed: 0':'original_document_num'}, inplace=True )\n",
    "data"
   ]
  },
  {
   "cell_type": "code",
   "execution_count": 119,
   "metadata": {},
   "outputs": [],
   "source": [
    "from bertopic import BERTopic\n",
    "topic_model = BERTopic(embedding_model=\"all-MiniLM-L6-v2\",nr_topics=20)"
   ]
  },
  {
   "cell_type": "code",
   "execution_count": 120,
   "metadata": {},
   "outputs": [],
   "source": [
    "docs = data['bi_grams_to_text'].values.tolist()\n",
    "topics, probs = topic_model.fit_transform(docs)"
   ]
  },
  {
   "cell_type": "code",
   "execution_count": 121,
   "metadata": {},
   "outputs": [],
   "source": [
    "#new_topics = topic_model.reduce_outliers(docs, topics, strategy=\"embeddings\")"
   ]
  },
  {
   "cell_type": "code",
   "execution_count": 122,
   "metadata": {},
   "outputs": [],
   "source": [
    "#topic_model.update_topics(docs, topics=new_topics)"
   ]
  },
  {
   "cell_type": "code",
   "execution_count": 123,
   "metadata": {},
   "outputs": [
    {
     "data": {
      "text/html": [
       "<div>\n",
       "<style scoped>\n",
       "    .dataframe tbody tr th:only-of-type {\n",
       "        vertical-align: middle;\n",
       "    }\n",
       "\n",
       "    .dataframe tbody tr th {\n",
       "        vertical-align: top;\n",
       "    }\n",
       "\n",
       "    .dataframe thead th {\n",
       "        text-align: right;\n",
       "    }\n",
       "</style>\n",
       "<table border=\"1\" class=\"dataframe\">\n",
       "  <thead>\n",
       "    <tr style=\"text-align: right;\">\n",
       "      <th></th>\n",
       "      <th>Topic</th>\n",
       "      <th>Count</th>\n",
       "      <th>Name</th>\n",
       "    </tr>\n",
       "  </thead>\n",
       "  <tbody>\n",
       "    <tr>\n",
       "      <th>1</th>\n",
       "      <td>0</td>\n",
       "      <td>66</td>\n",
       "      <td>0_global__climate_crisis_support_youth_led</td>\n",
       "    </tr>\n",
       "    <tr>\n",
       "      <th>2</th>\n",
       "      <td>1</td>\n",
       "      <td>64</td>\n",
       "      <td>1_drew_line___</td>\n",
       "    </tr>\n",
       "    <tr>\n",
       "      <th>3</th>\n",
       "      <td>2</td>\n",
       "      <td>54</td>\n",
       "      <td>2_digest__stories_compiled__published_stories</td>\n",
       "    </tr>\n",
       "    <tr>\n",
       "      <th>4</th>\n",
       "      <td>3</td>\n",
       "      <td>42</td>\n",
       "      <td>3_fossil_fuel_oil_gas_fossil_fuels_big_oil</td>\n",
       "    </tr>\n",
       "    <tr>\n",
       "      <th>5</th>\n",
       "      <td>4</td>\n",
       "      <td>40</td>\n",
       "      <td>4_collective_action_national_labor_climate_cri...</td>\n",
       "    </tr>\n",
       "    <tr>\n",
       "      <th>6</th>\n",
       "      <td>5</td>\n",
       "      <td>40</td>\n",
       "      <td>5__do____</td>\n",
       "    </tr>\n",
       "    <tr>\n",
       "      <th>7</th>\n",
       "      <td>6</td>\n",
       "      <td>34</td>\n",
       "      <td>6_zero_emissions_facial_recognition_net_zero_r...</td>\n",
       "    </tr>\n",
       "    <tr>\n",
       "      <th>8</th>\n",
       "      <td>7</td>\n",
       "      <td>33</td>\n",
       "      <td>7_paid_time_135_million_community_members_time...</td>\n",
       "    </tr>\n",
       "    <tr>\n",
       "      <th>9</th>\n",
       "      <td>8</td>\n",
       "      <td>33</td>\n",
       "      <td>8__gebru_dr_sign_petition_publication_approval</td>\n",
       "    </tr>\n",
       "    <tr>\n",
       "      <th>10</th>\n",
       "      <td>9</td>\n",
       "      <td>31</td>\n",
       "      <td>9_forced_arbitration_sexual_harassment_temps__...</td>\n",
       "    </tr>\n",
       "    <tr>\n",
       "      <th>11</th>\n",
       "      <td>10</td>\n",
       "      <td>28</td>\n",
       "      <td>10_communities_color_carbon_footprint_diesel_t...</td>\n",
       "    </tr>\n",
       "    <tr>\n",
       "      <th>12</th>\n",
       "      <td>11</td>\n",
       "      <td>27</td>\n",
       "      <td>11_sexual_harassment_working_conditions__</td>\n",
       "    </tr>\n",
       "    <tr>\n",
       "      <th>13</th>\n",
       "      <td>12</td>\n",
       "      <td>25</td>\n",
       "      <td>12_thank_you_right_thing_thing_do_</td>\n",
       "    </tr>\n",
       "    <tr>\n",
       "      <th>14</th>\n",
       "      <td>13</td>\n",
       "      <td>25</td>\n",
       "      <td>13_human_rights_walked_out_collective_action_o...</td>\n",
       "    </tr>\n",
       "    <tr>\n",
       "      <th>15</th>\n",
       "      <td>14</td>\n",
       "      <td>22</td>\n",
       "      <td>14_press_release_annual_shareholder_shareholde...</td>\n",
       "    </tr>\n",
       "    <tr>\n",
       "      <th>16</th>\n",
       "      <td>15</td>\n",
       "      <td>20</td>\n",
       "      <td>15_working_conditions___</td>\n",
       "    </tr>\n",
       "    <tr>\n",
       "      <th>17</th>\n",
       "      <td>16</td>\n",
       "      <td>20</td>\n",
       "      <td>16_firing_start_social_media_listening_workers...</td>\n",
       "    </tr>\n",
       "    <tr>\n",
       "      <th>18</th>\n",
       "      <td>17</td>\n",
       "      <td>19</td>\n",
       "      <td>17_join_us_town_hall_global__</td>\n",
       "    </tr>\n",
       "    <tr>\n",
       "      <th>19</th>\n",
       "      <td>18</td>\n",
       "      <td>19</td>\n",
       "      <td>18_ai_ethics_ethical_ai__</td>\n",
       "    </tr>\n",
       "    <tr>\n",
       "      <th>20</th>\n",
       "      <td>19</td>\n",
       "      <td>19</td>\n",
       "      <td>19_union_busting_cross_picket__</td>\n",
       "    </tr>\n",
       "  </tbody>\n",
       "</table>\n",
       "</div>"
      ],
      "text/plain": [
       "    Topic  Count                                               Name\n",
       "1       0     66         0_global__climate_crisis_support_youth_led\n",
       "2       1     64                                     1_drew_line___\n",
       "3       2     54      2_digest__stories_compiled__published_stories\n",
       "4       3     42         3_fossil_fuel_oil_gas_fossil_fuels_big_oil\n",
       "5       4     40  4_collective_action_national_labor_climate_cri...\n",
       "6       5     40                                          5__do____\n",
       "7       6     34  6_zero_emissions_facial_recognition_net_zero_r...\n",
       "8       7     33  7_paid_time_135_million_community_members_time...\n",
       "9       8     33     8__gebru_dr_sign_petition_publication_approval\n",
       "10      9     31  9_forced_arbitration_sexual_harassment_temps__...\n",
       "11     10     28  10_communities_color_carbon_footprint_diesel_t...\n",
       "12     11     27          11_sexual_harassment_working_conditions__\n",
       "13     12     25                 12_thank_you_right_thing_thing_do_\n",
       "14     13     25  13_human_rights_walked_out_collective_action_o...\n",
       "15     14     22  14_press_release_annual_shareholder_shareholde...\n",
       "16     15     20                           15_working_conditions___\n",
       "17     16     20  16_firing_start_social_media_listening_workers...\n",
       "18     17     19                      17_join_us_town_hall_global__\n",
       "19     18     19                          18_ai_ethics_ethical_ai__\n",
       "20     19     19                    19_union_busting_cross_picket__"
      ]
     },
     "execution_count": 123,
     "metadata": {},
     "output_type": "execute_result"
    }
   ],
   "source": [
    "\"\"\"\n",
    "Note that in the above data frame, topic -1 denotes the topic consisting of outlier documents which are typically ignored due to terms having a relatively high prevalence \n",
    "across the whole corpus and thus, low specificity toward any cohesive theme or topic.\n",
    "\"\"\"\n",
    "df_topics = topic_model.get_topic_info()\n",
    "df_topics.drop(df_topics.loc[df_topics['Topic']==-1].index, inplace=True) #Droping topic -1\n",
    "df_topics\n",
    "#len(df_topics.index)\n",
    "#df_topic_name_number_mapping[df_topic_name_number_mapping.Topic == 0]"
   ]
  },
  {
   "cell_type": "code",
   "execution_count": 124,
   "metadata": {},
   "outputs": [
    {
     "data": {
      "text/plain": [
       "[('co', 0.09084782667985145),\n",
       " ('we', 0.08317018903910005),\n",
       " ('6gyg6awefn_we', 0.07873496470612676),\n",
       " ('support_think', 0.07873496470612676),\n",
       " ('seen_statement', 0.07873496470612676),\n",
       " ('re_curious', 0.07873496470612676),\n",
       " ('re', 0.07873496470612676),\n",
       " ('looking_', 0.07873496470612676),\n",
       " ('https', 0.07873496470612676),\n",
       " ('open_source', 0.07633623757948974)]"
      ]
     },
     "execution_count": 124,
     "metadata": {},
     "output_type": "execute_result"
    }
   ],
   "source": [
    "topic_model.get_topic(-1) \n",
    "##You can manually merge topics that u think are similar\n",
    "## https://maartengr.github.io/BERTopic/getting_started/topicreduction/topicreduction.html\n"
   ]
  },
  {
   "cell_type": "code",
   "execution_count": 125,
   "metadata": {},
   "outputs": [
    {
     "data": {
      "text/html": [
       "<div>\n",
       "<style scoped>\n",
       "    .dataframe tbody tr th:only-of-type {\n",
       "        vertical-align: middle;\n",
       "    }\n",
       "\n",
       "    .dataframe tbody tr th {\n",
       "        vertical-align: top;\n",
       "    }\n",
       "\n",
       "    .dataframe thead th {\n",
       "        text-align: right;\n",
       "    }\n",
       "</style>\n",
       "<table border=\"1\" class=\"dataframe\">\n",
       "  <thead>\n",
       "    <tr style=\"text-align: right;\">\n",
       "      <th></th>\n",
       "      <th>Document</th>\n",
       "      <th>Topic</th>\n",
       "      <th>Name</th>\n",
       "      <th>Top_n_words</th>\n",
       "      <th>Probability</th>\n",
       "      <th>Representative_document</th>\n",
       "    </tr>\n",
       "  </thead>\n",
       "  <tbody>\n",
       "    <tr>\n",
       "      <th>0</th>\n",
       "      <td>forced_arbitration sexual_harassment</td>\n",
       "      <td>9</td>\n",
       "      <td>9_forced_arbitration_sexual_harassment_temps__...</td>\n",
       "      <td>forced_arbitration - sexual_harassment - temps...</td>\n",
       "      <td>0.199169</td>\n",
       "      <td>False</td>\n",
       "    </tr>\n",
       "    <tr>\n",
       "      <th>1</th>\n",
       "      <td>sexual_harassment</td>\n",
       "      <td>11</td>\n",
       "      <td>11_sexual_harassment_working_conditions__</td>\n",
       "      <td>sexual_harassment - working_conditions -  -  -...</td>\n",
       "      <td>0.530299</td>\n",
       "      <td>True</td>\n",
       "    </tr>\n",
       "    <tr>\n",
       "      <th>2</th>\n",
       "      <td>sexual_harassment,</td>\n",
       "      <td>11</td>\n",
       "      <td>11_sexual_harassment_working_conditions__</td>\n",
       "      <td>sexual_harassment - working_conditions -  -  -...</td>\n",
       "      <td>0.812003</td>\n",
       "      <td>False</td>\n",
       "    </tr>\n",
       "    <tr>\n",
       "      <th>3</th>\n",
       "      <td>human_rights</td>\n",
       "      <td>13</td>\n",
       "      <td>13_human_rights_walked_out_collective_action_o...</td>\n",
       "      <td>human_rights - walked_out - collective_action ...</td>\n",
       "      <td>0.716933</td>\n",
       "      <td>True</td>\n",
       "    </tr>\n",
       "    <tr>\n",
       "      <th>4</th>\n",
       "      <td>sexual_harassment</td>\n",
       "      <td>11</td>\n",
       "      <td>11_sexual_harassment_working_conditions__</td>\n",
       "      <td>sexual_harassment - working_conditions -  -  -...</td>\n",
       "      <td>1.000000</td>\n",
       "      <td>True</td>\n",
       "    </tr>\n",
       "    <tr>\n",
       "      <th>...</th>\n",
       "      <td>...</td>\n",
       "      <td>...</td>\n",
       "      <td>...</td>\n",
       "      <td>...</td>\n",
       "      <td>...</td>\n",
       "      <td>...</td>\n",
       "    </tr>\n",
       "    <tr>\n",
       "      <th>760</th>\n",
       "      <td>digest_ stories,_published</td>\n",
       "      <td>2</td>\n",
       "      <td>2_digest__stories_compiled__published_stories</td>\n",
       "      <td>digest_ - stories_compiled - _published - stor...</td>\n",
       "      <td>1.000000</td>\n",
       "      <td>False</td>\n",
       "    </tr>\n",
       "    <tr>\n",
       "      <th>761</th>\n",
       "      <td>digest_</td>\n",
       "      <td>2</td>\n",
       "      <td>2_digest__stories_compiled__published_stories</td>\n",
       "      <td>digest_ - stories_compiled - _published - stor...</td>\n",
       "      <td>1.000000</td>\n",
       "      <td>True</td>\n",
       "    </tr>\n",
       "    <tr>\n",
       "      <th>762</th>\n",
       "      <td>digest_ stories,_published</td>\n",
       "      <td>2</td>\n",
       "      <td>2_digest__stories_compiled__published_stories</td>\n",
       "      <td>digest_ - stories_compiled - _published - stor...</td>\n",
       "      <td>1.000000</td>\n",
       "      <td>False</td>\n",
       "    </tr>\n",
       "    <tr>\n",
       "      <th>763</th>\n",
       "      <td>digest_</td>\n",
       "      <td>2</td>\n",
       "      <td>2_digest__stories_compiled__published_stories</td>\n",
       "      <td>digest_ - stories_compiled - _published - stor...</td>\n",
       "      <td>1.000000</td>\n",
       "      <td>True</td>\n",
       "    </tr>\n",
       "    <tr>\n",
       "      <th>764</th>\n",
       "      <td>working_conditions</td>\n",
       "      <td>15</td>\n",
       "      <td>15_working_conditions___</td>\n",
       "      <td>working_conditions -  -  -  -  -  -  -  -  -</td>\n",
       "      <td>1.000000</td>\n",
       "      <td>True</td>\n",
       "    </tr>\n",
       "  </tbody>\n",
       "</table>\n",
       "<p>765 rows × 6 columns</p>\n",
       "</div>"
      ],
      "text/plain": [
       "                                 Document  Topic  \\\n",
       "0    forced_arbitration sexual_harassment      9   \n",
       "1                       sexual_harassment     11   \n",
       "2                      sexual_harassment,     11   \n",
       "3                            human_rights     13   \n",
       "4                       sexual_harassment     11   \n",
       "..                                    ...    ...   \n",
       "760           digest_ stories,_published       2   \n",
       "761                               digest_      2   \n",
       "762           digest_ stories,_published       2   \n",
       "763                               digest_      2   \n",
       "764                    working_conditions     15   \n",
       "\n",
       "                                                  Name  \\\n",
       "0    9_forced_arbitration_sexual_harassment_temps__...   \n",
       "1            11_sexual_harassment_working_conditions__   \n",
       "2            11_sexual_harassment_working_conditions__   \n",
       "3    13_human_rights_walked_out_collective_action_o...   \n",
       "4            11_sexual_harassment_working_conditions__   \n",
       "..                                                 ...   \n",
       "760      2_digest__stories_compiled__published_stories   \n",
       "761      2_digest__stories_compiled__published_stories   \n",
       "762      2_digest__stories_compiled__published_stories   \n",
       "763      2_digest__stories_compiled__published_stories   \n",
       "764                           15_working_conditions___   \n",
       "\n",
       "                                           Top_n_words  Probability  \\\n",
       "0    forced_arbitration - sexual_harassment - temps...     0.199169   \n",
       "1    sexual_harassment - working_conditions -  -  -...     0.530299   \n",
       "2    sexual_harassment - working_conditions -  -  -...     0.812003   \n",
       "3    human_rights - walked_out - collective_action ...     0.716933   \n",
       "4    sexual_harassment - working_conditions -  -  -...     1.000000   \n",
       "..                                                 ...          ...   \n",
       "760  digest_ - stories_compiled - _published - stor...     1.000000   \n",
       "761  digest_ - stories_compiled - _published - stor...     1.000000   \n",
       "762  digest_ - stories_compiled - _published - stor...     1.000000   \n",
       "763  digest_ - stories_compiled - _published - stor...     1.000000   \n",
       "764      working_conditions -  -  -  -  -  -  -  -  -      1.000000   \n",
       "\n",
       "     Representative_document  \n",
       "0                      False  \n",
       "1                       True  \n",
       "2                      False  \n",
       "3                       True  \n",
       "4                       True  \n",
       "..                       ...  \n",
       "760                    False  \n",
       "761                     True  \n",
       "762                    False  \n",
       "763                     True  \n",
       "764                     True  \n",
       "\n",
       "[765 rows x 6 columns]"
      ]
     },
     "execution_count": 125,
     "metadata": {},
     "output_type": "execute_result"
    }
   ],
   "source": [
    "topic_model.get_document_info(docs)"
   ]
  },
  {
   "cell_type": "code",
   "execution_count": 126,
   "metadata": {},
   "outputs": [],
   "source": [
    "#topic_model.visualize_topics()"
   ]
  },
  {
   "cell_type": "code",
   "execution_count": 127,
   "metadata": {},
   "outputs": [],
   "source": [
    "#topic_model.visualize_barchart()"
   ]
  },
  {
   "cell_type": "code",
   "execution_count": 128,
   "metadata": {},
   "outputs": [],
   "source": [
    "#import pprint \n",
    "#pprint.pprint(topic_model.get_representative_docs(topic=2))\n"
   ]
  },
  {
   "cell_type": "code",
   "execution_count": 129,
   "metadata": {},
   "outputs": [],
   "source": [
    "#import pandas as pd\n",
    "#df_topic_document = pd.DataFrame({'topic': topics, 'document': docs})"
   ]
  },
  {
   "cell_type": "code",
   "execution_count": 130,
   "metadata": {},
   "outputs": [],
   "source": [
    "#topic_0 = df_topic_document[df_topic_document.topic == 0]\n",
    "#topic_0"
   ]
  },
  {
   "cell_type": "code",
   "execution_count": 131,
   "metadata": {},
   "outputs": [],
   "source": [
    "topic_distr, _ = topic_model.approximate_distribution(docs)"
   ]
  },
  {
   "cell_type": "code",
   "execution_count": 132,
   "metadata": {},
   "outputs": [
    {
     "data": {
      "text/plain": [
       "array([0.        , 0.        , 0.        , 0.        , 0.        ,\n",
       "       0.        , 0.        , 0.        , 0.        , 0.12663812,\n",
       "       0.        , 0.87336188, 0.        , 0.        , 0.        ,\n",
       "       0.        , 0.        , 0.        , 0.        , 0.        ])"
      ]
     },
     "execution_count": 132,
     "metadata": {},
     "output_type": "execute_result"
    }
   ],
   "source": [
    "topic_distr[1]"
   ]
  },
  {
   "cell_type": "code",
   "execution_count": 133,
   "metadata": {},
   "outputs": [
    {
     "data": {
      "application/vnd.plotly.v1+json": {
       "config": {
        "plotlyServerURL": "https://plotly.com"
       },
       "data": [
        {
         "marker": {
          "color": "#C8D2D7",
          "line": {
           "color": "#6E8484",
           "width": 1
          }
         },
         "orientation": "h",
         "type": "bar",
         "x": [
          0.12663811615376455,
          0.8733618838462355
         ],
         "y": [
          "<b>Topic 9</b>: forced_arbitration_sexua...",
          "<b>Topic 11</b>: sexual_harassment_worki..."
         ]
        }
       ],
       "layout": {
        "height": 600,
        "hoverlabel": {
         "bgcolor": "white",
         "font": {
          "family": "Rockwell",
          "size": 16
         }
        },
        "template": {
         "data": {
          "bar": [
           {
            "error_x": {
             "color": "rgb(36,36,36)"
            },
            "error_y": {
             "color": "rgb(36,36,36)"
            },
            "marker": {
             "line": {
              "color": "white",
              "width": 0.5
             },
             "pattern": {
              "fillmode": "overlay",
              "size": 10,
              "solidity": 0.2
             }
            },
            "type": "bar"
           }
          ],
          "barpolar": [
           {
            "marker": {
             "line": {
              "color": "white",
              "width": 0.5
             },
             "pattern": {
              "fillmode": "overlay",
              "size": 10,
              "solidity": 0.2
             }
            },
            "type": "barpolar"
           }
          ],
          "carpet": [
           {
            "aaxis": {
             "endlinecolor": "rgb(36,36,36)",
             "gridcolor": "white",
             "linecolor": "white",
             "minorgridcolor": "white",
             "startlinecolor": "rgb(36,36,36)"
            },
            "baxis": {
             "endlinecolor": "rgb(36,36,36)",
             "gridcolor": "white",
             "linecolor": "white",
             "minorgridcolor": "white",
             "startlinecolor": "rgb(36,36,36)"
            },
            "type": "carpet"
           }
          ],
          "choropleth": [
           {
            "colorbar": {
             "outlinewidth": 1,
             "tickcolor": "rgb(36,36,36)",
             "ticks": "outside"
            },
            "type": "choropleth"
           }
          ],
          "contour": [
           {
            "colorbar": {
             "outlinewidth": 1,
             "tickcolor": "rgb(36,36,36)",
             "ticks": "outside"
            },
            "colorscale": [
             [
              0,
              "#440154"
             ],
             [
              0.1111111111111111,
              "#482878"
             ],
             [
              0.2222222222222222,
              "#3e4989"
             ],
             [
              0.3333333333333333,
              "#31688e"
             ],
             [
              0.4444444444444444,
              "#26828e"
             ],
             [
              0.5555555555555556,
              "#1f9e89"
             ],
             [
              0.6666666666666666,
              "#35b779"
             ],
             [
              0.7777777777777778,
              "#6ece58"
             ],
             [
              0.8888888888888888,
              "#b5de2b"
             ],
             [
              1,
              "#fde725"
             ]
            ],
            "type": "contour"
           }
          ],
          "contourcarpet": [
           {
            "colorbar": {
             "outlinewidth": 1,
             "tickcolor": "rgb(36,36,36)",
             "ticks": "outside"
            },
            "type": "contourcarpet"
           }
          ],
          "heatmap": [
           {
            "colorbar": {
             "outlinewidth": 1,
             "tickcolor": "rgb(36,36,36)",
             "ticks": "outside"
            },
            "colorscale": [
             [
              0,
              "#440154"
             ],
             [
              0.1111111111111111,
              "#482878"
             ],
             [
              0.2222222222222222,
              "#3e4989"
             ],
             [
              0.3333333333333333,
              "#31688e"
             ],
             [
              0.4444444444444444,
              "#26828e"
             ],
             [
              0.5555555555555556,
              "#1f9e89"
             ],
             [
              0.6666666666666666,
              "#35b779"
             ],
             [
              0.7777777777777778,
              "#6ece58"
             ],
             [
              0.8888888888888888,
              "#b5de2b"
             ],
             [
              1,
              "#fde725"
             ]
            ],
            "type": "heatmap"
           }
          ],
          "heatmapgl": [
           {
            "colorbar": {
             "outlinewidth": 1,
             "tickcolor": "rgb(36,36,36)",
             "ticks": "outside"
            },
            "colorscale": [
             [
              0,
              "#440154"
             ],
             [
              0.1111111111111111,
              "#482878"
             ],
             [
              0.2222222222222222,
              "#3e4989"
             ],
             [
              0.3333333333333333,
              "#31688e"
             ],
             [
              0.4444444444444444,
              "#26828e"
             ],
             [
              0.5555555555555556,
              "#1f9e89"
             ],
             [
              0.6666666666666666,
              "#35b779"
             ],
             [
              0.7777777777777778,
              "#6ece58"
             ],
             [
              0.8888888888888888,
              "#b5de2b"
             ],
             [
              1,
              "#fde725"
             ]
            ],
            "type": "heatmapgl"
           }
          ],
          "histogram": [
           {
            "marker": {
             "line": {
              "color": "white",
              "width": 0.6
             }
            },
            "type": "histogram"
           }
          ],
          "histogram2d": [
           {
            "colorbar": {
             "outlinewidth": 1,
             "tickcolor": "rgb(36,36,36)",
             "ticks": "outside"
            },
            "colorscale": [
             [
              0,
              "#440154"
             ],
             [
              0.1111111111111111,
              "#482878"
             ],
             [
              0.2222222222222222,
              "#3e4989"
             ],
             [
              0.3333333333333333,
              "#31688e"
             ],
             [
              0.4444444444444444,
              "#26828e"
             ],
             [
              0.5555555555555556,
              "#1f9e89"
             ],
             [
              0.6666666666666666,
              "#35b779"
             ],
             [
              0.7777777777777778,
              "#6ece58"
             ],
             [
              0.8888888888888888,
              "#b5de2b"
             ],
             [
              1,
              "#fde725"
             ]
            ],
            "type": "histogram2d"
           }
          ],
          "histogram2dcontour": [
           {
            "colorbar": {
             "outlinewidth": 1,
             "tickcolor": "rgb(36,36,36)",
             "ticks": "outside"
            },
            "colorscale": [
             [
              0,
              "#440154"
             ],
             [
              0.1111111111111111,
              "#482878"
             ],
             [
              0.2222222222222222,
              "#3e4989"
             ],
             [
              0.3333333333333333,
              "#31688e"
             ],
             [
              0.4444444444444444,
              "#26828e"
             ],
             [
              0.5555555555555556,
              "#1f9e89"
             ],
             [
              0.6666666666666666,
              "#35b779"
             ],
             [
              0.7777777777777778,
              "#6ece58"
             ],
             [
              0.8888888888888888,
              "#b5de2b"
             ],
             [
              1,
              "#fde725"
             ]
            ],
            "type": "histogram2dcontour"
           }
          ],
          "mesh3d": [
           {
            "colorbar": {
             "outlinewidth": 1,
             "tickcolor": "rgb(36,36,36)",
             "ticks": "outside"
            },
            "type": "mesh3d"
           }
          ],
          "parcoords": [
           {
            "line": {
             "colorbar": {
              "outlinewidth": 1,
              "tickcolor": "rgb(36,36,36)",
              "ticks": "outside"
             }
            },
            "type": "parcoords"
           }
          ],
          "pie": [
           {
            "automargin": true,
            "type": "pie"
           }
          ],
          "scatter": [
           {
            "fillpattern": {
             "fillmode": "overlay",
             "size": 10,
             "solidity": 0.2
            },
            "type": "scatter"
           }
          ],
          "scatter3d": [
           {
            "line": {
             "colorbar": {
              "outlinewidth": 1,
              "tickcolor": "rgb(36,36,36)",
              "ticks": "outside"
             }
            },
            "marker": {
             "colorbar": {
              "outlinewidth": 1,
              "tickcolor": "rgb(36,36,36)",
              "ticks": "outside"
             }
            },
            "type": "scatter3d"
           }
          ],
          "scattercarpet": [
           {
            "marker": {
             "colorbar": {
              "outlinewidth": 1,
              "tickcolor": "rgb(36,36,36)",
              "ticks": "outside"
             }
            },
            "type": "scattercarpet"
           }
          ],
          "scattergeo": [
           {
            "marker": {
             "colorbar": {
              "outlinewidth": 1,
              "tickcolor": "rgb(36,36,36)",
              "ticks": "outside"
             }
            },
            "type": "scattergeo"
           }
          ],
          "scattergl": [
           {
            "marker": {
             "colorbar": {
              "outlinewidth": 1,
              "tickcolor": "rgb(36,36,36)",
              "ticks": "outside"
             }
            },
            "type": "scattergl"
           }
          ],
          "scattermapbox": [
           {
            "marker": {
             "colorbar": {
              "outlinewidth": 1,
              "tickcolor": "rgb(36,36,36)",
              "ticks": "outside"
             }
            },
            "type": "scattermapbox"
           }
          ],
          "scatterpolar": [
           {
            "marker": {
             "colorbar": {
              "outlinewidth": 1,
              "tickcolor": "rgb(36,36,36)",
              "ticks": "outside"
             }
            },
            "type": "scatterpolar"
           }
          ],
          "scatterpolargl": [
           {
            "marker": {
             "colorbar": {
              "outlinewidth": 1,
              "tickcolor": "rgb(36,36,36)",
              "ticks": "outside"
             }
            },
            "type": "scatterpolargl"
           }
          ],
          "scatterternary": [
           {
            "marker": {
             "colorbar": {
              "outlinewidth": 1,
              "tickcolor": "rgb(36,36,36)",
              "ticks": "outside"
             }
            },
            "type": "scatterternary"
           }
          ],
          "surface": [
           {
            "colorbar": {
             "outlinewidth": 1,
             "tickcolor": "rgb(36,36,36)",
             "ticks": "outside"
            },
            "colorscale": [
             [
              0,
              "#440154"
             ],
             [
              0.1111111111111111,
              "#482878"
             ],
             [
              0.2222222222222222,
              "#3e4989"
             ],
             [
              0.3333333333333333,
              "#31688e"
             ],
             [
              0.4444444444444444,
              "#26828e"
             ],
             [
              0.5555555555555556,
              "#1f9e89"
             ],
             [
              0.6666666666666666,
              "#35b779"
             ],
             [
              0.7777777777777778,
              "#6ece58"
             ],
             [
              0.8888888888888888,
              "#b5de2b"
             ],
             [
              1,
              "#fde725"
             ]
            ],
            "type": "surface"
           }
          ],
          "table": [
           {
            "cells": {
             "fill": {
              "color": "rgb(237,237,237)"
             },
             "line": {
              "color": "white"
             }
            },
            "header": {
             "fill": {
              "color": "rgb(217,217,217)"
             },
             "line": {
              "color": "white"
             }
            },
            "type": "table"
           }
          ]
         },
         "layout": {
          "annotationdefaults": {
           "arrowhead": 0,
           "arrowwidth": 1
          },
          "autotypenumbers": "strict",
          "coloraxis": {
           "colorbar": {
            "outlinewidth": 1,
            "tickcolor": "rgb(36,36,36)",
            "ticks": "outside"
           }
          },
          "colorscale": {
           "diverging": [
            [
             0,
             "rgb(103,0,31)"
            ],
            [
             0.1,
             "rgb(178,24,43)"
            ],
            [
             0.2,
             "rgb(214,96,77)"
            ],
            [
             0.3,
             "rgb(244,165,130)"
            ],
            [
             0.4,
             "rgb(253,219,199)"
            ],
            [
             0.5,
             "rgb(247,247,247)"
            ],
            [
             0.6,
             "rgb(209,229,240)"
            ],
            [
             0.7,
             "rgb(146,197,222)"
            ],
            [
             0.8,
             "rgb(67,147,195)"
            ],
            [
             0.9,
             "rgb(33,102,172)"
            ],
            [
             1,
             "rgb(5,48,97)"
            ]
           ],
           "sequential": [
            [
             0,
             "#440154"
            ],
            [
             0.1111111111111111,
             "#482878"
            ],
            [
             0.2222222222222222,
             "#3e4989"
            ],
            [
             0.3333333333333333,
             "#31688e"
            ],
            [
             0.4444444444444444,
             "#26828e"
            ],
            [
             0.5555555555555556,
             "#1f9e89"
            ],
            [
             0.6666666666666666,
             "#35b779"
            ],
            [
             0.7777777777777778,
             "#6ece58"
            ],
            [
             0.8888888888888888,
             "#b5de2b"
            ],
            [
             1,
             "#fde725"
            ]
           ],
           "sequentialminus": [
            [
             0,
             "#440154"
            ],
            [
             0.1111111111111111,
             "#482878"
            ],
            [
             0.2222222222222222,
             "#3e4989"
            ],
            [
             0.3333333333333333,
             "#31688e"
            ],
            [
             0.4444444444444444,
             "#26828e"
            ],
            [
             0.5555555555555556,
             "#1f9e89"
            ],
            [
             0.6666666666666666,
             "#35b779"
            ],
            [
             0.7777777777777778,
             "#6ece58"
            ],
            [
             0.8888888888888888,
             "#b5de2b"
            ],
            [
             1,
             "#fde725"
            ]
           ]
          },
          "colorway": [
           "#1F77B4",
           "#FF7F0E",
           "#2CA02C",
           "#D62728",
           "#9467BD",
           "#8C564B",
           "#E377C2",
           "#7F7F7F",
           "#BCBD22",
           "#17BECF"
          ],
          "font": {
           "color": "rgb(36,36,36)"
          },
          "geo": {
           "bgcolor": "white",
           "lakecolor": "white",
           "landcolor": "white",
           "showlakes": true,
           "showland": true,
           "subunitcolor": "white"
          },
          "hoverlabel": {
           "align": "left"
          },
          "hovermode": "closest",
          "mapbox": {
           "style": "light"
          },
          "paper_bgcolor": "white",
          "plot_bgcolor": "white",
          "polar": {
           "angularaxis": {
            "gridcolor": "rgb(232,232,232)",
            "linecolor": "rgb(36,36,36)",
            "showgrid": false,
            "showline": true,
            "ticks": "outside"
           },
           "bgcolor": "white",
           "radialaxis": {
            "gridcolor": "rgb(232,232,232)",
            "linecolor": "rgb(36,36,36)",
            "showgrid": false,
            "showline": true,
            "ticks": "outside"
           }
          },
          "scene": {
           "xaxis": {
            "backgroundcolor": "white",
            "gridcolor": "rgb(232,232,232)",
            "gridwidth": 2,
            "linecolor": "rgb(36,36,36)",
            "showbackground": true,
            "showgrid": false,
            "showline": true,
            "ticks": "outside",
            "zeroline": false,
            "zerolinecolor": "rgb(36,36,36)"
           },
           "yaxis": {
            "backgroundcolor": "white",
            "gridcolor": "rgb(232,232,232)",
            "gridwidth": 2,
            "linecolor": "rgb(36,36,36)",
            "showbackground": true,
            "showgrid": false,
            "showline": true,
            "ticks": "outside",
            "zeroline": false,
            "zerolinecolor": "rgb(36,36,36)"
           },
           "zaxis": {
            "backgroundcolor": "white",
            "gridcolor": "rgb(232,232,232)",
            "gridwidth": 2,
            "linecolor": "rgb(36,36,36)",
            "showbackground": true,
            "showgrid": false,
            "showline": true,
            "ticks": "outside",
            "zeroline": false,
            "zerolinecolor": "rgb(36,36,36)"
           }
          },
          "shapedefaults": {
           "fillcolor": "black",
           "line": {
            "width": 0
           },
           "opacity": 0.3
          },
          "ternary": {
           "aaxis": {
            "gridcolor": "rgb(232,232,232)",
            "linecolor": "rgb(36,36,36)",
            "showgrid": false,
            "showline": true,
            "ticks": "outside"
           },
           "baxis": {
            "gridcolor": "rgb(232,232,232)",
            "linecolor": "rgb(36,36,36)",
            "showgrid": false,
            "showline": true,
            "ticks": "outside"
           },
           "bgcolor": "white",
           "caxis": {
            "gridcolor": "rgb(232,232,232)",
            "linecolor": "rgb(36,36,36)",
            "showgrid": false,
            "showline": true,
            "ticks": "outside"
           }
          },
          "title": {
           "x": 0.05
          },
          "xaxis": {
           "automargin": true,
           "gridcolor": "rgb(232,232,232)",
           "linecolor": "rgb(36,36,36)",
           "showgrid": false,
           "showline": true,
           "ticks": "outside",
           "title": {
            "standoff": 15
           },
           "zeroline": false,
           "zerolinecolor": "rgb(36,36,36)"
          },
          "yaxis": {
           "automargin": true,
           "gridcolor": "rgb(232,232,232)",
           "linecolor": "rgb(36,36,36)",
           "showgrid": false,
           "showline": true,
           "ticks": "outside",
           "title": {
            "standoff": 15
           },
           "zeroline": false,
           "zerolinecolor": "rgb(36,36,36)"
          }
         }
        },
        "title": {
         "font": {
          "color": "Black",
          "size": 22
         },
         "text": "<b>Topic Probability Distribution",
         "x": 0.5,
         "xanchor": "center",
         "y": 0.95,
         "yanchor": "top"
        },
        "width": 800,
        "xaxis": {
         "title": {
          "text": "Probability"
         }
        }
       }
      },
      "text/html": [
       "<div>                            <div id=\"bc54652c-a496-4b74-bc6a-8dc2ea9ac809\" class=\"plotly-graph-div\" style=\"height:600px; width:800px;\"></div>            <script type=\"text/javascript\">                require([\"plotly\"], function(Plotly) {                    window.PLOTLYENV=window.PLOTLYENV || {};                                    if (document.getElementById(\"bc54652c-a496-4b74-bc6a-8dc2ea9ac809\")) {                    Plotly.newPlot(                        \"bc54652c-a496-4b74-bc6a-8dc2ea9ac809\",                        [{\"marker\":{\"color\":\"#C8D2D7\",\"line\":{\"color\":\"#6E8484\",\"width\":1}},\"orientation\":\"h\",\"x\":[0.12663811615376455,0.8733618838462355],\"y\":[\"<b>Topic 9</b>: forced_arbitration_sexua...\",\"<b>Topic 11</b>: sexual_harassment_worki...\"],\"type\":\"bar\"}],                        {\"template\":{\"data\":{\"barpolar\":[{\"marker\":{\"line\":{\"color\":\"white\",\"width\":0.5},\"pattern\":{\"fillmode\":\"overlay\",\"size\":10,\"solidity\":0.2}},\"type\":\"barpolar\"}],\"bar\":[{\"error_x\":{\"color\":\"rgb(36,36,36)\"},\"error_y\":{\"color\":\"rgb(36,36,36)\"},\"marker\":{\"line\":{\"color\":\"white\",\"width\":0.5},\"pattern\":{\"fillmode\":\"overlay\",\"size\":10,\"solidity\":0.2}},\"type\":\"bar\"}],\"carpet\":[{\"aaxis\":{\"endlinecolor\":\"rgb(36,36,36)\",\"gridcolor\":\"white\",\"linecolor\":\"white\",\"minorgridcolor\":\"white\",\"startlinecolor\":\"rgb(36,36,36)\"},\"baxis\":{\"endlinecolor\":\"rgb(36,36,36)\",\"gridcolor\":\"white\",\"linecolor\":\"white\",\"minorgridcolor\":\"white\",\"startlinecolor\":\"rgb(36,36,36)\"},\"type\":\"carpet\"}],\"choropleth\":[{\"colorbar\":{\"outlinewidth\":1,\"tickcolor\":\"rgb(36,36,36)\",\"ticks\":\"outside\"},\"type\":\"choropleth\"}],\"contourcarpet\":[{\"colorbar\":{\"outlinewidth\":1,\"tickcolor\":\"rgb(36,36,36)\",\"ticks\":\"outside\"},\"type\":\"contourcarpet\"}],\"contour\":[{\"colorbar\":{\"outlinewidth\":1,\"tickcolor\":\"rgb(36,36,36)\",\"ticks\":\"outside\"},\"colorscale\":[[0.0,\"#440154\"],[0.1111111111111111,\"#482878\"],[0.2222222222222222,\"#3e4989\"],[0.3333333333333333,\"#31688e\"],[0.4444444444444444,\"#26828e\"],[0.5555555555555556,\"#1f9e89\"],[0.6666666666666666,\"#35b779\"],[0.7777777777777778,\"#6ece58\"],[0.8888888888888888,\"#b5de2b\"],[1.0,\"#fde725\"]],\"type\":\"contour\"}],\"heatmapgl\":[{\"colorbar\":{\"outlinewidth\":1,\"tickcolor\":\"rgb(36,36,36)\",\"ticks\":\"outside\"},\"colorscale\":[[0.0,\"#440154\"],[0.1111111111111111,\"#482878\"],[0.2222222222222222,\"#3e4989\"],[0.3333333333333333,\"#31688e\"],[0.4444444444444444,\"#26828e\"],[0.5555555555555556,\"#1f9e89\"],[0.6666666666666666,\"#35b779\"],[0.7777777777777778,\"#6ece58\"],[0.8888888888888888,\"#b5de2b\"],[1.0,\"#fde725\"]],\"type\":\"heatmapgl\"}],\"heatmap\":[{\"colorbar\":{\"outlinewidth\":1,\"tickcolor\":\"rgb(36,36,36)\",\"ticks\":\"outside\"},\"colorscale\":[[0.0,\"#440154\"],[0.1111111111111111,\"#482878\"],[0.2222222222222222,\"#3e4989\"],[0.3333333333333333,\"#31688e\"],[0.4444444444444444,\"#26828e\"],[0.5555555555555556,\"#1f9e89\"],[0.6666666666666666,\"#35b779\"],[0.7777777777777778,\"#6ece58\"],[0.8888888888888888,\"#b5de2b\"],[1.0,\"#fde725\"]],\"type\":\"heatmap\"}],\"histogram2dcontour\":[{\"colorbar\":{\"outlinewidth\":1,\"tickcolor\":\"rgb(36,36,36)\",\"ticks\":\"outside\"},\"colorscale\":[[0.0,\"#440154\"],[0.1111111111111111,\"#482878\"],[0.2222222222222222,\"#3e4989\"],[0.3333333333333333,\"#31688e\"],[0.4444444444444444,\"#26828e\"],[0.5555555555555556,\"#1f9e89\"],[0.6666666666666666,\"#35b779\"],[0.7777777777777778,\"#6ece58\"],[0.8888888888888888,\"#b5de2b\"],[1.0,\"#fde725\"]],\"type\":\"histogram2dcontour\"}],\"histogram2d\":[{\"colorbar\":{\"outlinewidth\":1,\"tickcolor\":\"rgb(36,36,36)\",\"ticks\":\"outside\"},\"colorscale\":[[0.0,\"#440154\"],[0.1111111111111111,\"#482878\"],[0.2222222222222222,\"#3e4989\"],[0.3333333333333333,\"#31688e\"],[0.4444444444444444,\"#26828e\"],[0.5555555555555556,\"#1f9e89\"],[0.6666666666666666,\"#35b779\"],[0.7777777777777778,\"#6ece58\"],[0.8888888888888888,\"#b5de2b\"],[1.0,\"#fde725\"]],\"type\":\"histogram2d\"}],\"histogram\":[{\"marker\":{\"line\":{\"color\":\"white\",\"width\":0.6}},\"type\":\"histogram\"}],\"mesh3d\":[{\"colorbar\":{\"outlinewidth\":1,\"tickcolor\":\"rgb(36,36,36)\",\"ticks\":\"outside\"},\"type\":\"mesh3d\"}],\"parcoords\":[{\"line\":{\"colorbar\":{\"outlinewidth\":1,\"tickcolor\":\"rgb(36,36,36)\",\"ticks\":\"outside\"}},\"type\":\"parcoords\"}],\"pie\":[{\"automargin\":true,\"type\":\"pie\"}],\"scatter3d\":[{\"line\":{\"colorbar\":{\"outlinewidth\":1,\"tickcolor\":\"rgb(36,36,36)\",\"ticks\":\"outside\"}},\"marker\":{\"colorbar\":{\"outlinewidth\":1,\"tickcolor\":\"rgb(36,36,36)\",\"ticks\":\"outside\"}},\"type\":\"scatter3d\"}],\"scattercarpet\":[{\"marker\":{\"colorbar\":{\"outlinewidth\":1,\"tickcolor\":\"rgb(36,36,36)\",\"ticks\":\"outside\"}},\"type\":\"scattercarpet\"}],\"scattergeo\":[{\"marker\":{\"colorbar\":{\"outlinewidth\":1,\"tickcolor\":\"rgb(36,36,36)\",\"ticks\":\"outside\"}},\"type\":\"scattergeo\"}],\"scattergl\":[{\"marker\":{\"colorbar\":{\"outlinewidth\":1,\"tickcolor\":\"rgb(36,36,36)\",\"ticks\":\"outside\"}},\"type\":\"scattergl\"}],\"scattermapbox\":[{\"marker\":{\"colorbar\":{\"outlinewidth\":1,\"tickcolor\":\"rgb(36,36,36)\",\"ticks\":\"outside\"}},\"type\":\"scattermapbox\"}],\"scatterpolargl\":[{\"marker\":{\"colorbar\":{\"outlinewidth\":1,\"tickcolor\":\"rgb(36,36,36)\",\"ticks\":\"outside\"}},\"type\":\"scatterpolargl\"}],\"scatterpolar\":[{\"marker\":{\"colorbar\":{\"outlinewidth\":1,\"tickcolor\":\"rgb(36,36,36)\",\"ticks\":\"outside\"}},\"type\":\"scatterpolar\"}],\"scatter\":[{\"fillpattern\":{\"fillmode\":\"overlay\",\"size\":10,\"solidity\":0.2},\"type\":\"scatter\"}],\"scatterternary\":[{\"marker\":{\"colorbar\":{\"outlinewidth\":1,\"tickcolor\":\"rgb(36,36,36)\",\"ticks\":\"outside\"}},\"type\":\"scatterternary\"}],\"surface\":[{\"colorbar\":{\"outlinewidth\":1,\"tickcolor\":\"rgb(36,36,36)\",\"ticks\":\"outside\"},\"colorscale\":[[0.0,\"#440154\"],[0.1111111111111111,\"#482878\"],[0.2222222222222222,\"#3e4989\"],[0.3333333333333333,\"#31688e\"],[0.4444444444444444,\"#26828e\"],[0.5555555555555556,\"#1f9e89\"],[0.6666666666666666,\"#35b779\"],[0.7777777777777778,\"#6ece58\"],[0.8888888888888888,\"#b5de2b\"],[1.0,\"#fde725\"]],\"type\":\"surface\"}],\"table\":[{\"cells\":{\"fill\":{\"color\":\"rgb(237,237,237)\"},\"line\":{\"color\":\"white\"}},\"header\":{\"fill\":{\"color\":\"rgb(217,217,217)\"},\"line\":{\"color\":\"white\"}},\"type\":\"table\"}]},\"layout\":{\"annotationdefaults\":{\"arrowhead\":0,\"arrowwidth\":1},\"autotypenumbers\":\"strict\",\"coloraxis\":{\"colorbar\":{\"outlinewidth\":1,\"tickcolor\":\"rgb(36,36,36)\",\"ticks\":\"outside\"}},\"colorscale\":{\"diverging\":[[0.0,\"rgb(103,0,31)\"],[0.1,\"rgb(178,24,43)\"],[0.2,\"rgb(214,96,77)\"],[0.3,\"rgb(244,165,130)\"],[0.4,\"rgb(253,219,199)\"],[0.5,\"rgb(247,247,247)\"],[0.6,\"rgb(209,229,240)\"],[0.7,\"rgb(146,197,222)\"],[0.8,\"rgb(67,147,195)\"],[0.9,\"rgb(33,102,172)\"],[1.0,\"rgb(5,48,97)\"]],\"sequential\":[[0.0,\"#440154\"],[0.1111111111111111,\"#482878\"],[0.2222222222222222,\"#3e4989\"],[0.3333333333333333,\"#31688e\"],[0.4444444444444444,\"#26828e\"],[0.5555555555555556,\"#1f9e89\"],[0.6666666666666666,\"#35b779\"],[0.7777777777777778,\"#6ece58\"],[0.8888888888888888,\"#b5de2b\"],[1.0,\"#fde725\"]],\"sequentialminus\":[[0.0,\"#440154\"],[0.1111111111111111,\"#482878\"],[0.2222222222222222,\"#3e4989\"],[0.3333333333333333,\"#31688e\"],[0.4444444444444444,\"#26828e\"],[0.5555555555555556,\"#1f9e89\"],[0.6666666666666666,\"#35b779\"],[0.7777777777777778,\"#6ece58\"],[0.8888888888888888,\"#b5de2b\"],[1.0,\"#fde725\"]]},\"colorway\":[\"#1F77B4\",\"#FF7F0E\",\"#2CA02C\",\"#D62728\",\"#9467BD\",\"#8C564B\",\"#E377C2\",\"#7F7F7F\",\"#BCBD22\",\"#17BECF\"],\"font\":{\"color\":\"rgb(36,36,36)\"},\"geo\":{\"bgcolor\":\"white\",\"lakecolor\":\"white\",\"landcolor\":\"white\",\"showlakes\":true,\"showland\":true,\"subunitcolor\":\"white\"},\"hoverlabel\":{\"align\":\"left\"},\"hovermode\":\"closest\",\"mapbox\":{\"style\":\"light\"},\"paper_bgcolor\":\"white\",\"plot_bgcolor\":\"white\",\"polar\":{\"angularaxis\":{\"gridcolor\":\"rgb(232,232,232)\",\"linecolor\":\"rgb(36,36,36)\",\"showgrid\":false,\"showline\":true,\"ticks\":\"outside\"},\"bgcolor\":\"white\",\"radialaxis\":{\"gridcolor\":\"rgb(232,232,232)\",\"linecolor\":\"rgb(36,36,36)\",\"showgrid\":false,\"showline\":true,\"ticks\":\"outside\"}},\"scene\":{\"xaxis\":{\"backgroundcolor\":\"white\",\"gridcolor\":\"rgb(232,232,232)\",\"gridwidth\":2,\"linecolor\":\"rgb(36,36,36)\",\"showbackground\":true,\"showgrid\":false,\"showline\":true,\"ticks\":\"outside\",\"zeroline\":false,\"zerolinecolor\":\"rgb(36,36,36)\"},\"yaxis\":{\"backgroundcolor\":\"white\",\"gridcolor\":\"rgb(232,232,232)\",\"gridwidth\":2,\"linecolor\":\"rgb(36,36,36)\",\"showbackground\":true,\"showgrid\":false,\"showline\":true,\"ticks\":\"outside\",\"zeroline\":false,\"zerolinecolor\":\"rgb(36,36,36)\"},\"zaxis\":{\"backgroundcolor\":\"white\",\"gridcolor\":\"rgb(232,232,232)\",\"gridwidth\":2,\"linecolor\":\"rgb(36,36,36)\",\"showbackground\":true,\"showgrid\":false,\"showline\":true,\"ticks\":\"outside\",\"zeroline\":false,\"zerolinecolor\":\"rgb(36,36,36)\"}},\"shapedefaults\":{\"fillcolor\":\"black\",\"line\":{\"width\":0},\"opacity\":0.3},\"ternary\":{\"aaxis\":{\"gridcolor\":\"rgb(232,232,232)\",\"linecolor\":\"rgb(36,36,36)\",\"showgrid\":false,\"showline\":true,\"ticks\":\"outside\"},\"baxis\":{\"gridcolor\":\"rgb(232,232,232)\",\"linecolor\":\"rgb(36,36,36)\",\"showgrid\":false,\"showline\":true,\"ticks\":\"outside\"},\"bgcolor\":\"white\",\"caxis\":{\"gridcolor\":\"rgb(232,232,232)\",\"linecolor\":\"rgb(36,36,36)\",\"showgrid\":false,\"showline\":true,\"ticks\":\"outside\"}},\"title\":{\"x\":0.05},\"xaxis\":{\"automargin\":true,\"gridcolor\":\"rgb(232,232,232)\",\"linecolor\":\"rgb(36,36,36)\",\"showgrid\":false,\"showline\":true,\"ticks\":\"outside\",\"title\":{\"standoff\":15},\"zeroline\":false,\"zerolinecolor\":\"rgb(36,36,36)\"},\"yaxis\":{\"automargin\":true,\"gridcolor\":\"rgb(232,232,232)\",\"linecolor\":\"rgb(36,36,36)\",\"showgrid\":false,\"showline\":true,\"ticks\":\"outside\",\"title\":{\"standoff\":15},\"zeroline\":false,\"zerolinecolor\":\"rgb(36,36,36)\"}}},\"title\":{\"font\":{\"size\":22,\"color\":\"Black\"},\"text\":\"<b>Topic Probability Distribution\",\"y\":0.95,\"x\":0.5,\"xanchor\":\"center\",\"yanchor\":\"top\"},\"hoverlabel\":{\"font\":{\"size\":16,\"family\":\"Rockwell\"},\"bgcolor\":\"white\"},\"xaxis\":{\"title\":{\"text\":\"Probability\"}},\"width\":800,\"height\":600},                        {\"responsive\": true}                    ).then(function(){\n",
       "                            \n",
       "var gd = document.getElementById('bc54652c-a496-4b74-bc6a-8dc2ea9ac809');\n",
       "var x = new MutationObserver(function (mutations, observer) {{\n",
       "        var display = window.getComputedStyle(gd).display;\n",
       "        if (!display || display === 'none') {{\n",
       "            console.log([gd, 'removed!']);\n",
       "            Plotly.purge(gd);\n",
       "            observer.disconnect();\n",
       "        }}\n",
       "}});\n",
       "\n",
       "// Listen for the removal of the full notebook cells\n",
       "var notebookContainer = gd.closest('#notebook-container');\n",
       "if (notebookContainer) {{\n",
       "    x.observe(notebookContainer, {childList: true});\n",
       "}}\n",
       "\n",
       "// Listen for the clearing of the current output cell\n",
       "var outputEl = gd.closest('.output');\n",
       "if (outputEl) {{\n",
       "    x.observe(outputEl, {childList: true});\n",
       "}}\n",
       "\n",
       "                        })                };                });            </script>        </div>"
      ]
     },
     "metadata": {},
     "output_type": "display_data"
    }
   ],
   "source": [
    "#topic_model.visualize_distribution(topic_distr[1])"
   ]
  },
  {
   "cell_type": "code",
   "execution_count": 134,
   "metadata": {},
   "outputs": [
    {
     "data": {
      "text/plain": [
       "'Text (1/2):\\n1. An end to Forced Arbitration in cases of harassment and discrimination for all current and future employees.\\n2. A commitment to end pay and opportunity inequity.\\n3.A publicly disclosed sexual harassment transparency report.'"
      ]
     },
     "execution_count": 134,
     "metadata": {},
     "output_type": "execute_result"
    }
   ],
   "source": [
    "#data['original_tweets'][1]"
   ]
  },
  {
   "cell_type": "code",
   "execution_count": 135,
   "metadata": {},
   "outputs": [],
   "source": [
    "#Check documents within a topic.\n",
    "#import pandas as pd\n",
    "#df_topic_document = pd.DataFrame({'topic': topics, 'document': docs})\n",
    "#topic_minus_1 = df_topic_document[df_topic_document.topic == -1]\n",
    "#topic_minus_1\n",
    "#df_topic_document.head()"
   ]
  },
  {
   "cell_type": "code",
   "execution_count": 136,
   "metadata": {},
   "outputs": [
    {
     "data": {
      "text/html": [
       "<div>\n",
       "<style scoped>\n",
       "    .dataframe tbody tr th:only-of-type {\n",
       "        vertical-align: middle;\n",
       "    }\n",
       "\n",
       "    .dataframe tbody tr th {\n",
       "        vertical-align: top;\n",
       "    }\n",
       "\n",
       "    .dataframe thead th {\n",
       "        text-align: right;\n",
       "    }\n",
       "</style>\n",
       "<table border=\"1\" class=\"dataframe\">\n",
       "  <thead>\n",
       "    <tr style=\"text-align: right;\">\n",
       "      <th></th>\n",
       "      <th>Tweet_id</th>\n",
       "      <th>tweet</th>\n",
       "      <th>company</th>\n",
       "      <th>0_global__climate_crisis_support_youth_led</th>\n",
       "      <th>1_drew_line___</th>\n",
       "      <th>2_digest__stories_compiled__published_stories</th>\n",
       "      <th>3_fossil_fuel_oil_gas_fossil_fuels_big_oil</th>\n",
       "      <th>4_collective_action_national_labor_climate_crisis_</th>\n",
       "      <th>5__do____</th>\n",
       "      <th>6_zero_emissions_facial_recognition_net_zero_racial_equity</th>\n",
       "      <th>...</th>\n",
       "      <th>10_communities_color_carbon_footprint_diesel_trucks_fossil_fuel</th>\n",
       "      <th>11_sexual_harassment_working_conditions__</th>\n",
       "      <th>12_thank_you_right_thing_thing_do_</th>\n",
       "      <th>13_human_rights_walked_out_collective_action_oil_gas</th>\n",
       "      <th>14_press_release_annual_shareholder_shareholder_meeting_community_members</th>\n",
       "      <th>15_working_conditions___</th>\n",
       "      <th>16_firing_start_social_media_listening_workers_start_listening</th>\n",
       "      <th>17_join_us_town_hall_global__</th>\n",
       "      <th>18_ai_ethics_ethical_ai__</th>\n",
       "      <th>19_union_busting_cross_picket__</th>\n",
       "    </tr>\n",
       "  </thead>\n",
       "  <tbody>\n",
       "    <tr>\n",
       "      <th>1</th>\n",
       "      <td>1057837349290287104</td>\n",
       "      <td>Text (1/2):\\n1. An end to Forced Arbitration i...</td>\n",
       "      <td>Google</td>\n",
       "      <td>0</td>\n",
       "      <td>0</td>\n",
       "      <td>0</td>\n",
       "      <td>0</td>\n",
       "      <td>0</td>\n",
       "      <td>0</td>\n",
       "      <td>0</td>\n",
       "      <td>...</td>\n",
       "      <td>0</td>\n",
       "      <td>0</td>\n",
       "      <td>0</td>\n",
       "      <td>0</td>\n",
       "      <td>0</td>\n",
       "      <td>0</td>\n",
       "      <td>0</td>\n",
       "      <td>0</td>\n",
       "      <td>0</td>\n",
       "      <td>0</td>\n",
       "    </tr>\n",
       "    <tr>\n",
       "      <th>3</th>\n",
       "      <td>1057996752735870976</td>\n",
       "      <td>Google employees at the company's U.K. headqua...</td>\n",
       "      <td>Google</td>\n",
       "      <td>0</td>\n",
       "      <td>0</td>\n",
       "      <td>0</td>\n",
       "      <td>0</td>\n",
       "      <td>0</td>\n",
       "      <td>0</td>\n",
       "      <td>0</td>\n",
       "      <td>...</td>\n",
       "      <td>0</td>\n",
       "      <td>0</td>\n",
       "      <td>0</td>\n",
       "      <td>0</td>\n",
       "      <td>0</td>\n",
       "      <td>0</td>\n",
       "      <td>0</td>\n",
       "      <td>0</td>\n",
       "      <td>0</td>\n",
       "      <td>0</td>\n",
       "    </tr>\n",
       "    <tr>\n",
       "      <th>4</th>\n",
       "      <td>1058016551796989952</td>\n",
       "      <td>PHOTOS: Worldwide #GoogleWalkout over sexual h...</td>\n",
       "      <td>Google</td>\n",
       "      <td>0</td>\n",
       "      <td>0</td>\n",
       "      <td>0</td>\n",
       "      <td>0</td>\n",
       "      <td>0</td>\n",
       "      <td>0</td>\n",
       "      <td>0</td>\n",
       "      <td>...</td>\n",
       "      <td>0</td>\n",
       "      <td>0</td>\n",
       "      <td>0</td>\n",
       "      <td>0</td>\n",
       "      <td>0</td>\n",
       "      <td>0</td>\n",
       "      <td>0</td>\n",
       "      <td>0</td>\n",
       "      <td>0</td>\n",
       "      <td>0</td>\n",
       "    </tr>\n",
       "    <tr>\n",
       "      <th>5</th>\n",
       "      <td>1058022770192326656</td>\n",
       "      <td>Women's rights are human rights #GoogleWalkout...</td>\n",
       "      <td>Google</td>\n",
       "      <td>0</td>\n",
       "      <td>0</td>\n",
       "      <td>0</td>\n",
       "      <td>0</td>\n",
       "      <td>0</td>\n",
       "      <td>0</td>\n",
       "      <td>0</td>\n",
       "      <td>...</td>\n",
       "      <td>0</td>\n",
       "      <td>0</td>\n",
       "      <td>0</td>\n",
       "      <td>0</td>\n",
       "      <td>0</td>\n",
       "      <td>0</td>\n",
       "      <td>0</td>\n",
       "      <td>0</td>\n",
       "      <td>0</td>\n",
       "      <td>0</td>\n",
       "    </tr>\n",
       "    <tr>\n",
       "      <th>6</th>\n",
       "      <td>1058038924793298945</td>\n",
       "      <td>Google employees walked out of the tech compan...</td>\n",
       "      <td>Google</td>\n",
       "      <td>0</td>\n",
       "      <td>0</td>\n",
       "      <td>0</td>\n",
       "      <td>0</td>\n",
       "      <td>0</td>\n",
       "      <td>0</td>\n",
       "      <td>0</td>\n",
       "      <td>...</td>\n",
       "      <td>0</td>\n",
       "      <td>0</td>\n",
       "      <td>0</td>\n",
       "      <td>0</td>\n",
       "      <td>0</td>\n",
       "      <td>0</td>\n",
       "      <td>0</td>\n",
       "      <td>0</td>\n",
       "      <td>0</td>\n",
       "      <td>0</td>\n",
       "    </tr>\n",
       "  </tbody>\n",
       "</table>\n",
       "<p>5 rows × 23 columns</p>\n",
       "</div>"
      ],
      "text/plain": [
       "              Tweet_id                                              tweet  \\\n",
       "1  1057837349290287104  Text (1/2):\\n1. An end to Forced Arbitration i...   \n",
       "3  1057996752735870976  Google employees at the company's U.K. headqua...   \n",
       "4  1058016551796989952  PHOTOS: Worldwide #GoogleWalkout over sexual h...   \n",
       "5  1058022770192326656  Women's rights are human rights #GoogleWalkout...   \n",
       "6  1058038924793298945  Google employees walked out of the tech compan...   \n",
       "\n",
       "  company  0_global__climate_crisis_support_youth_led  1_drew_line___  \\\n",
       "1  Google                                           0               0   \n",
       "3  Google                                           0               0   \n",
       "4  Google                                           0               0   \n",
       "5  Google                                           0               0   \n",
       "6  Google                                           0               0   \n",
       "\n",
       "   2_digest__stories_compiled__published_stories  \\\n",
       "1                                              0   \n",
       "3                                              0   \n",
       "4                                              0   \n",
       "5                                              0   \n",
       "6                                              0   \n",
       "\n",
       "   3_fossil_fuel_oil_gas_fossil_fuels_big_oil  \\\n",
       "1                                           0   \n",
       "3                                           0   \n",
       "4                                           0   \n",
       "5                                           0   \n",
       "6                                           0   \n",
       "\n",
       "   4_collective_action_national_labor_climate_crisis_  5__do____  \\\n",
       "1                                                  0           0   \n",
       "3                                                  0           0   \n",
       "4                                                  0           0   \n",
       "5                                                  0           0   \n",
       "6                                                  0           0   \n",
       "\n",
       "   6_zero_emissions_facial_recognition_net_zero_racial_equity  ...  \\\n",
       "1                                                  0           ...   \n",
       "3                                                  0           ...   \n",
       "4                                                  0           ...   \n",
       "5                                                  0           ...   \n",
       "6                                                  0           ...   \n",
       "\n",
       "   10_communities_color_carbon_footprint_diesel_trucks_fossil_fuel  \\\n",
       "1                                                  0                 \n",
       "3                                                  0                 \n",
       "4                                                  0                 \n",
       "5                                                  0                 \n",
       "6                                                  0                 \n",
       "\n",
       "   11_sexual_harassment_working_conditions__  \\\n",
       "1                                          0   \n",
       "3                                          0   \n",
       "4                                          0   \n",
       "5                                          0   \n",
       "6                                          0   \n",
       "\n",
       "   12_thank_you_right_thing_thing_do_  \\\n",
       "1                                   0   \n",
       "3                                   0   \n",
       "4                                   0   \n",
       "5                                   0   \n",
       "6                                   0   \n",
       "\n",
       "   13_human_rights_walked_out_collective_action_oil_gas  \\\n",
       "1                                                  0      \n",
       "3                                                  0      \n",
       "4                                                  0      \n",
       "5                                                  0      \n",
       "6                                                  0      \n",
       "\n",
       "   14_press_release_annual_shareholder_shareholder_meeting_community_members  \\\n",
       "1                                                  0                           \n",
       "3                                                  0                           \n",
       "4                                                  0                           \n",
       "5                                                  0                           \n",
       "6                                                  0                           \n",
       "\n",
       "   15_working_conditions___  \\\n",
       "1                         0   \n",
       "3                         0   \n",
       "4                         0   \n",
       "5                         0   \n",
       "6                         0   \n",
       "\n",
       "   16_firing_start_social_media_listening_workers_start_listening  \\\n",
       "1                                                  0                \n",
       "3                                                  0                \n",
       "4                                                  0                \n",
       "5                                                  0                \n",
       "6                                                  0                \n",
       "\n",
       "   17_join_us_town_hall_global__  18_ai_ethics_ethical_ai__  \\\n",
       "1                              0                          0   \n",
       "3                              0                          0   \n",
       "4                              0                          0   \n",
       "5                              0                          0   \n",
       "6                              0                          0   \n",
       "\n",
       "   19_union_busting_cross_picket__  \n",
       "1                                0  \n",
       "3                                0  \n",
       "4                                0  \n",
       "5                                0  \n",
       "6                                0  \n",
       "\n",
       "[5 rows x 23 columns]"
      ]
     },
     "execution_count": 136,
     "metadata": {},
     "output_type": "execute_result"
    }
   ],
   "source": [
    "df_output = pd.DataFrame({'Tweet_id': data['tweet_id'],'tweet':data['original_tweets'],'company': data['company_name']})\n",
    "df_topics\n",
    "\n",
    "#Adding topics as columns headers to the output dataframe\n",
    "for index,row in df_topics.iterrows():\n",
    "    topic_name = row['Name']\n",
    "    df_output[topic_name] = 0\n",
    "\n",
    "df_output.head(5)"
   ]
  },
  {
   "cell_type": "code",
   "execution_count": 137,
   "metadata": {},
   "outputs": [],
   "source": [
    "number_of_docs = len(docs)\n",
    "number_of_topics = len(df_topics.index)\n",
    "#print(number_of_topics)\n",
    "for doc_num in range(number_of_docs):\n",
    "    topics = topic_distr[doc_num]\n",
    "    #print(len(topics))\n",
    "    col_index = 3\n",
    "    #print (type(doc_num))\n",
    "    for topicNum in range(number_of_topics):\n",
    "        #print (type(topicNum))\n",
    "        #print(topics[topicNum])\n",
    "        df_output.iloc[[doc_num],[col_index]] = topics[topicNum]\n",
    "        col_index = col_index + 1\n"
   ]
  },
  {
   "cell_type": "code",
   "execution_count": 139,
   "metadata": {},
   "outputs": [
    {
     "data": {
      "text/html": [
       "<div>\n",
       "<style scoped>\n",
       "    .dataframe tbody tr th:only-of-type {\n",
       "        vertical-align: middle;\n",
       "    }\n",
       "\n",
       "    .dataframe tbody tr th {\n",
       "        vertical-align: top;\n",
       "    }\n",
       "\n",
       "    .dataframe thead th {\n",
       "        text-align: right;\n",
       "    }\n",
       "</style>\n",
       "<table border=\"1\" class=\"dataframe\">\n",
       "  <thead>\n",
       "    <tr style=\"text-align: right;\">\n",
       "      <th></th>\n",
       "      <th>Tweet_id</th>\n",
       "      <th>tweet</th>\n",
       "      <th>company</th>\n",
       "      <th>0_global__climate_crisis_support_youth_led</th>\n",
       "      <th>1_drew_line___</th>\n",
       "      <th>2_digest__stories_compiled__published_stories</th>\n",
       "      <th>3_fossil_fuel_oil_gas_fossil_fuels_big_oil</th>\n",
       "      <th>4_collective_action_national_labor_climate_crisis_</th>\n",
       "      <th>5__do____</th>\n",
       "      <th>6_zero_emissions_facial_recognition_net_zero_racial_equity</th>\n",
       "      <th>...</th>\n",
       "      <th>10_communities_color_carbon_footprint_diesel_trucks_fossil_fuel</th>\n",
       "      <th>11_sexual_harassment_working_conditions__</th>\n",
       "      <th>12_thank_you_right_thing_thing_do_</th>\n",
       "      <th>13_human_rights_walked_out_collective_action_oil_gas</th>\n",
       "      <th>14_press_release_annual_shareholder_shareholder_meeting_community_members</th>\n",
       "      <th>15_working_conditions___</th>\n",
       "      <th>16_firing_start_social_media_listening_workers_start_listening</th>\n",
       "      <th>17_join_us_town_hall_global__</th>\n",
       "      <th>18_ai_ethics_ethical_ai__</th>\n",
       "      <th>19_union_busting_cross_picket__</th>\n",
       "    </tr>\n",
       "  </thead>\n",
       "  <tbody>\n",
       "    <tr>\n",
       "      <th>1</th>\n",
       "      <td>1057837349290287104</td>\n",
       "      <td>Text (1/2):\\n1. An end to Forced Arbitration i...</td>\n",
       "      <td>Google</td>\n",
       "      <td>0.0</td>\n",
       "      <td>0.0</td>\n",
       "      <td>0</td>\n",
       "      <td>0.0</td>\n",
       "      <td>0.0</td>\n",
       "      <td>0</td>\n",
       "      <td>0.0</td>\n",
       "      <td>...</td>\n",
       "      <td>0.0</td>\n",
       "      <td>0.469262</td>\n",
       "      <td>0</td>\n",
       "      <td>0.0</td>\n",
       "      <td>0.0</td>\n",
       "      <td>0.0</td>\n",
       "      <td>0</td>\n",
       "      <td>0.0</td>\n",
       "      <td>0.0</td>\n",
       "      <td>0</td>\n",
       "    </tr>\n",
       "    <tr>\n",
       "      <th>3</th>\n",
       "      <td>1057996752735870976</td>\n",
       "      <td>Google employees at the company's U.K. headqua...</td>\n",
       "      <td>Google</td>\n",
       "      <td>0.0</td>\n",
       "      <td>0.0</td>\n",
       "      <td>0</td>\n",
       "      <td>0.0</td>\n",
       "      <td>0.0</td>\n",
       "      <td>0</td>\n",
       "      <td>0.0</td>\n",
       "      <td>...</td>\n",
       "      <td>0.0</td>\n",
       "      <td>0.873362</td>\n",
       "      <td>0</td>\n",
       "      <td>0.0</td>\n",
       "      <td>0.0</td>\n",
       "      <td>0.0</td>\n",
       "      <td>0</td>\n",
       "      <td>0.0</td>\n",
       "      <td>0.0</td>\n",
       "      <td>0</td>\n",
       "    </tr>\n",
       "    <tr>\n",
       "      <th>4</th>\n",
       "      <td>1058016551796989952</td>\n",
       "      <td>PHOTOS: Worldwide #GoogleWalkout over sexual h...</td>\n",
       "      <td>Google</td>\n",
       "      <td>0.0</td>\n",
       "      <td>0.0</td>\n",
       "      <td>0</td>\n",
       "      <td>0.0</td>\n",
       "      <td>0.0</td>\n",
       "      <td>0</td>\n",
       "      <td>0.0</td>\n",
       "      <td>...</td>\n",
       "      <td>0.0</td>\n",
       "      <td>0.873362</td>\n",
       "      <td>0</td>\n",
       "      <td>0.0</td>\n",
       "      <td>0.0</td>\n",
       "      <td>0.0</td>\n",
       "      <td>0</td>\n",
       "      <td>0.0</td>\n",
       "      <td>0.0</td>\n",
       "      <td>0</td>\n",
       "    </tr>\n",
       "    <tr>\n",
       "      <th>5</th>\n",
       "      <td>1058022770192326656</td>\n",
       "      <td>Women's rights are human rights #GoogleWalkout...</td>\n",
       "      <td>Google</td>\n",
       "      <td>0.0</td>\n",
       "      <td>0.0</td>\n",
       "      <td>0</td>\n",
       "      <td>0.0</td>\n",
       "      <td>0.0</td>\n",
       "      <td>0</td>\n",
       "      <td>0.0</td>\n",
       "      <td>...</td>\n",
       "      <td>0.0</td>\n",
       "      <td>0.000000</td>\n",
       "      <td>0</td>\n",
       "      <td>1.0</td>\n",
       "      <td>0.0</td>\n",
       "      <td>0.0</td>\n",
       "      <td>0</td>\n",
       "      <td>0.0</td>\n",
       "      <td>0.0</td>\n",
       "      <td>0</td>\n",
       "    </tr>\n",
       "    <tr>\n",
       "      <th>6</th>\n",
       "      <td>1058038924793298945</td>\n",
       "      <td>Google employees walked out of the tech compan...</td>\n",
       "      <td>Google</td>\n",
       "      <td>0.0</td>\n",
       "      <td>0.0</td>\n",
       "      <td>0</td>\n",
       "      <td>0.0</td>\n",
       "      <td>0.0</td>\n",
       "      <td>0</td>\n",
       "      <td>0.0</td>\n",
       "      <td>...</td>\n",
       "      <td>0.0</td>\n",
       "      <td>0.873362</td>\n",
       "      <td>0</td>\n",
       "      <td>0.0</td>\n",
       "      <td>0.0</td>\n",
       "      <td>0.0</td>\n",
       "      <td>0</td>\n",
       "      <td>0.0</td>\n",
       "      <td>0.0</td>\n",
       "      <td>0</td>\n",
       "    </tr>\n",
       "    <tr>\n",
       "      <th>...</th>\n",
       "      <td>...</td>\n",
       "      <td>...</td>\n",
       "      <td>...</td>\n",
       "      <td>...</td>\n",
       "      <td>...</td>\n",
       "      <td>...</td>\n",
       "      <td>...</td>\n",
       "      <td>...</td>\n",
       "      <td>...</td>\n",
       "      <td>...</td>\n",
       "      <td>...</td>\n",
       "      <td>...</td>\n",
       "      <td>...</td>\n",
       "      <td>...</td>\n",
       "      <td>...</td>\n",
       "      <td>...</td>\n",
       "      <td>...</td>\n",
       "      <td>...</td>\n",
       "      <td>...</td>\n",
       "      <td>...</td>\n",
       "      <td>...</td>\n",
       "    </tr>\n",
       "    <tr>\n",
       "      <th>112</th>\n",
       "      <td>1123294379609870337</td>\n",
       "      <td>From being told to go on sick leave when you'r...</td>\n",
       "      <td>Google</td>\n",
       "      <td>0.0</td>\n",
       "      <td>0.0</td>\n",
       "      <td>0</td>\n",
       "      <td>0.0</td>\n",
       "      <td>0.0</td>\n",
       "      <td>0</td>\n",
       "      <td>0.0</td>\n",
       "      <td>...</td>\n",
       "      <td>0.0</td>\n",
       "      <td>0.000000</td>\n",
       "      <td>0</td>\n",
       "      <td>1.0</td>\n",
       "      <td>0.0</td>\n",
       "      <td>0.0</td>\n",
       "      <td>0</td>\n",
       "      <td>0.0</td>\n",
       "      <td>0.0</td>\n",
       "      <td>0</td>\n",
       "    </tr>\n",
       "    <tr>\n",
       "      <th>113</th>\n",
       "      <td>1123683525780283392</td>\n",
       "      <td>\"I’m the breadwinner in my family of four so t...</td>\n",
       "      <td>Google</td>\n",
       "      <td>0.0</td>\n",
       "      <td>0.0</td>\n",
       "      <td>0</td>\n",
       "      <td>0.0</td>\n",
       "      <td>0.0</td>\n",
       "      <td>0</td>\n",
       "      <td>0.0</td>\n",
       "      <td>...</td>\n",
       "      <td>0.0</td>\n",
       "      <td>0.000000</td>\n",
       "      <td>0</td>\n",
       "      <td>0.0</td>\n",
       "      <td>0.0</td>\n",
       "      <td>0.0</td>\n",
       "      <td>0</td>\n",
       "      <td>1.0</td>\n",
       "      <td>0.0</td>\n",
       "      <td>0</td>\n",
       "    </tr>\n",
       "    <tr>\n",
       "      <th>119</th>\n",
       "      <td>1125469198824693766</td>\n",
       "      <td>As we continue our call for Google to end forc...</td>\n",
       "      <td>Google</td>\n",
       "      <td>0.0</td>\n",
       "      <td>0.0</td>\n",
       "      <td>0</td>\n",
       "      <td>0.0</td>\n",
       "      <td>0.0</td>\n",
       "      <td>0</td>\n",
       "      <td>0.0</td>\n",
       "      <td>...</td>\n",
       "      <td>0.0</td>\n",
       "      <td>0.410799</td>\n",
       "      <td>0</td>\n",
       "      <td>0.0</td>\n",
       "      <td>0.0</td>\n",
       "      <td>0.0</td>\n",
       "      <td>0</td>\n",
       "      <td>0.0</td>\n",
       "      <td>0.0</td>\n",
       "      <td>0</td>\n",
       "    </tr>\n",
       "    <tr>\n",
       "      <th>120</th>\n",
       "      <td>1125483184517472257</td>\n",
       "      <td>Today myself and several of my co-workers are ...</td>\n",
       "      <td>Google</td>\n",
       "      <td>0.0</td>\n",
       "      <td>0.0</td>\n",
       "      <td>0</td>\n",
       "      <td>0.0</td>\n",
       "      <td>0.0</td>\n",
       "      <td>0</td>\n",
       "      <td>0.0</td>\n",
       "      <td>...</td>\n",
       "      <td>0.0</td>\n",
       "      <td>0.000000</td>\n",
       "      <td>0</td>\n",
       "      <td>0.0</td>\n",
       "      <td>0.0</td>\n",
       "      <td>0.0</td>\n",
       "      <td>0</td>\n",
       "      <td>0.0</td>\n",
       "      <td>0.0</td>\n",
       "      <td>0</td>\n",
       "    </tr>\n",
       "    <tr>\n",
       "      <th>121</th>\n",
       "      <td>1125483259230588929</td>\n",
       "      <td>Today is the #RiotWalkout. Time to show leader...</td>\n",
       "      <td>Google</td>\n",
       "      <td>0.0</td>\n",
       "      <td>0.0</td>\n",
       "      <td>0</td>\n",
       "      <td>0.0</td>\n",
       "      <td>0.0</td>\n",
       "      <td>0</td>\n",
       "      <td>0.0</td>\n",
       "      <td>...</td>\n",
       "      <td>0.0</td>\n",
       "      <td>0.873362</td>\n",
       "      <td>0</td>\n",
       "      <td>0.0</td>\n",
       "      <td>0.0</td>\n",
       "      <td>0.0</td>\n",
       "      <td>0</td>\n",
       "      <td>0.0</td>\n",
       "      <td>0.0</td>\n",
       "      <td>0</td>\n",
       "    </tr>\n",
       "  </tbody>\n",
       "</table>\n",
       "<p>100 rows × 23 columns</p>\n",
       "</div>"
      ],
      "text/plain": [
       "                Tweet_id                                              tweet  \\\n",
       "1    1057837349290287104  Text (1/2):\\n1. An end to Forced Arbitration i...   \n",
       "3    1057996752735870976  Google employees at the company's U.K. headqua...   \n",
       "4    1058016551796989952  PHOTOS: Worldwide #GoogleWalkout over sexual h...   \n",
       "5    1058022770192326656  Women's rights are human rights #GoogleWalkout...   \n",
       "6    1058038924793298945  Google employees walked out of the tech compan...   \n",
       "..                   ...                                                ...   \n",
       "112  1123294379609870337  From being told to go on sick leave when you'r...   \n",
       "113  1123683525780283392  \"I’m the breadwinner in my family of four so t...   \n",
       "119  1125469198824693766  As we continue our call for Google to end forc...   \n",
       "120  1125483184517472257  Today myself and several of my co-workers are ...   \n",
       "121  1125483259230588929  Today is the #RiotWalkout. Time to show leader...   \n",
       "\n",
       "    company  0_global__climate_crisis_support_youth_led  1_drew_line___  \\\n",
       "1    Google                                         0.0             0.0   \n",
       "3    Google                                         0.0             0.0   \n",
       "4    Google                                         0.0             0.0   \n",
       "5    Google                                         0.0             0.0   \n",
       "6    Google                                         0.0             0.0   \n",
       "..      ...                                         ...             ...   \n",
       "112  Google                                         0.0             0.0   \n",
       "113  Google                                         0.0             0.0   \n",
       "119  Google                                         0.0             0.0   \n",
       "120  Google                                         0.0             0.0   \n",
       "121  Google                                         0.0             0.0   \n",
       "\n",
       "     2_digest__stories_compiled__published_stories  \\\n",
       "1                                                0   \n",
       "3                                                0   \n",
       "4                                                0   \n",
       "5                                                0   \n",
       "6                                                0   \n",
       "..                                             ...   \n",
       "112                                              0   \n",
       "113                                              0   \n",
       "119                                              0   \n",
       "120                                              0   \n",
       "121                                              0   \n",
       "\n",
       "     3_fossil_fuel_oil_gas_fossil_fuels_big_oil  \\\n",
       "1                                           0.0   \n",
       "3                                           0.0   \n",
       "4                                           0.0   \n",
       "5                                           0.0   \n",
       "6                                           0.0   \n",
       "..                                          ...   \n",
       "112                                         0.0   \n",
       "113                                         0.0   \n",
       "119                                         0.0   \n",
       "120                                         0.0   \n",
       "121                                         0.0   \n",
       "\n",
       "     4_collective_action_national_labor_climate_crisis_  5__do____  \\\n",
       "1                                                  0.0           0   \n",
       "3                                                  0.0           0   \n",
       "4                                                  0.0           0   \n",
       "5                                                  0.0           0   \n",
       "6                                                  0.0           0   \n",
       "..                                                 ...         ...   \n",
       "112                                                0.0           0   \n",
       "113                                                0.0           0   \n",
       "119                                                0.0           0   \n",
       "120                                                0.0           0   \n",
       "121                                                0.0           0   \n",
       "\n",
       "     6_zero_emissions_facial_recognition_net_zero_racial_equity  ...  \\\n",
       "1                                                  0.0           ...   \n",
       "3                                                  0.0           ...   \n",
       "4                                                  0.0           ...   \n",
       "5                                                  0.0           ...   \n",
       "6                                                  0.0           ...   \n",
       "..                                                 ...           ...   \n",
       "112                                                0.0           ...   \n",
       "113                                                0.0           ...   \n",
       "119                                                0.0           ...   \n",
       "120                                                0.0           ...   \n",
       "121                                                0.0           ...   \n",
       "\n",
       "     10_communities_color_carbon_footprint_diesel_trucks_fossil_fuel  \\\n",
       "1                                                  0.0                 \n",
       "3                                                  0.0                 \n",
       "4                                                  0.0                 \n",
       "5                                                  0.0                 \n",
       "6                                                  0.0                 \n",
       "..                                                 ...                 \n",
       "112                                                0.0                 \n",
       "113                                                0.0                 \n",
       "119                                                0.0                 \n",
       "120                                                0.0                 \n",
       "121                                                0.0                 \n",
       "\n",
       "     11_sexual_harassment_working_conditions__  \\\n",
       "1                                     0.469262   \n",
       "3                                     0.873362   \n",
       "4                                     0.873362   \n",
       "5                                     0.000000   \n",
       "6                                     0.873362   \n",
       "..                                         ...   \n",
       "112                                   0.000000   \n",
       "113                                   0.000000   \n",
       "119                                   0.410799   \n",
       "120                                   0.000000   \n",
       "121                                   0.873362   \n",
       "\n",
       "     12_thank_you_right_thing_thing_do_  \\\n",
       "1                                     0   \n",
       "3                                     0   \n",
       "4                                     0   \n",
       "5                                     0   \n",
       "6                                     0   \n",
       "..                                  ...   \n",
       "112                                   0   \n",
       "113                                   0   \n",
       "119                                   0   \n",
       "120                                   0   \n",
       "121                                   0   \n",
       "\n",
       "     13_human_rights_walked_out_collective_action_oil_gas  \\\n",
       "1                                                  0.0      \n",
       "3                                                  0.0      \n",
       "4                                                  0.0      \n",
       "5                                                  1.0      \n",
       "6                                                  0.0      \n",
       "..                                                 ...      \n",
       "112                                                1.0      \n",
       "113                                                0.0      \n",
       "119                                                0.0      \n",
       "120                                                0.0      \n",
       "121                                                0.0      \n",
       "\n",
       "     14_press_release_annual_shareholder_shareholder_meeting_community_members  \\\n",
       "1                                                  0.0                           \n",
       "3                                                  0.0                           \n",
       "4                                                  0.0                           \n",
       "5                                                  0.0                           \n",
       "6                                                  0.0                           \n",
       "..                                                 ...                           \n",
       "112                                                0.0                           \n",
       "113                                                0.0                           \n",
       "119                                                0.0                           \n",
       "120                                                0.0                           \n",
       "121                                                0.0                           \n",
       "\n",
       "     15_working_conditions___  \\\n",
       "1                         0.0   \n",
       "3                         0.0   \n",
       "4                         0.0   \n",
       "5                         0.0   \n",
       "6                         0.0   \n",
       "..                        ...   \n",
       "112                       0.0   \n",
       "113                       0.0   \n",
       "119                       0.0   \n",
       "120                       0.0   \n",
       "121                       0.0   \n",
       "\n",
       "     16_firing_start_social_media_listening_workers_start_listening  \\\n",
       "1                                                    0                \n",
       "3                                                    0                \n",
       "4                                                    0                \n",
       "5                                                    0                \n",
       "6                                                    0                \n",
       "..                                                 ...                \n",
       "112                                                  0                \n",
       "113                                                  0                \n",
       "119                                                  0                \n",
       "120                                                  0                \n",
       "121                                                  0                \n",
       "\n",
       "     17_join_us_town_hall_global__  18_ai_ethics_ethical_ai__  \\\n",
       "1                              0.0                        0.0   \n",
       "3                              0.0                        0.0   \n",
       "4                              0.0                        0.0   \n",
       "5                              0.0                        0.0   \n",
       "6                              0.0                        0.0   \n",
       "..                             ...                        ...   \n",
       "112                            0.0                        0.0   \n",
       "113                            1.0                        0.0   \n",
       "119                            0.0                        0.0   \n",
       "120                            0.0                        0.0   \n",
       "121                            0.0                        0.0   \n",
       "\n",
       "     19_union_busting_cross_picket__  \n",
       "1                                  0  \n",
       "3                                  0  \n",
       "4                                  0  \n",
       "5                                  0  \n",
       "6                                  0  \n",
       "..                               ...  \n",
       "112                                0  \n",
       "113                                0  \n",
       "119                                0  \n",
       "120                                0  \n",
       "121                                0  \n",
       "\n",
       "[100 rows x 23 columns]"
      ]
     },
     "execution_count": 139,
     "metadata": {},
     "output_type": "execute_result"
    }
   ],
   "source": [
    "df_output.head(100)"
   ]
  },
  {
   "cell_type": "code",
   "execution_count": 141,
   "metadata": {},
   "outputs": [
    {
     "name": "stdout",
     "output_type": "stream",
     "text": [
      "DataFrame is written successfully to Excel File.\n"
     ]
    }
   ],
   "source": [
    "df_output['Tweet_id'] = df_output['Tweet_id'].apply(str)\n",
    "\n",
    "# create excel writer object\n",
    "writer1 = pd.ExcelWriter('bert_topic_modelling.xlsx')\n",
    "# write dataframe to excel\n",
    "df_output.to_excel(writer1, sheet_name = 'topic_modelling', engine=\"xlsxwriter\")\n",
    "\n",
    "# save the excel\n",
    "writer1.save()\n",
    "#writer.close()\n",
    "print('DataFrame is written successfully to Excel File.')"
   ]
  },
  {
   "cell_type": "code",
   "execution_count": null,
   "metadata": {},
   "outputs": [],
   "source": []
  }
 ],
 "metadata": {
  "kernelspec": {
   "display_name": "Python 3",
   "language": "python",
   "name": "python3"
  },
  "language_info": {
   "codemirror_mode": {
    "name": "ipython",
    "version": 3
   },
   "file_extension": ".py",
   "mimetype": "text/x-python",
   "name": "python",
   "nbconvert_exporter": "python",
   "pygments_lexer": "ipython3",
   "version": "3.7.7"
  }
 },
 "nbformat": 4,
 "nbformat_minor": 4
}
